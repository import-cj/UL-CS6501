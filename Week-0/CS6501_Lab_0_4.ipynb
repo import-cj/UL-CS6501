{
  "nbformat": 4,
  "nbformat_minor": 0,
  "metadata": {
    "colab": {
      "name": "CS6501_Lab_0_4.ipynb",
      "provenance": []
    },
    "kernelspec": {
      "name": "python3",
      "display_name": "Python 3"
    },
    "language_info": {
      "name": "python"
    }
  },
  "cells": [
    {
      "cell_type": "markdown",
      "metadata": {
        "id": "RdDALp2mSxV3"
      },
      "source": [
        "<div>\n",
        "<img src=\"https://drive.google.com/uc?export=view&id=1vK33e_EqaHgBHcbRV_m38hx6IkG0blK_\" width=\"350\"/>\n",
        "</div> \n",
        "\n",
        "#**Artificial Intelligence - MSc**\n",
        "CS6501 - MACHINE LEARNING AND APPLICATIONS \n",
        "\n",
        "###Instructor: Enrique Naredo\n",
        "###CS6501_Lab-0.4"
      ]
    },
    {
      "cell_type": "markdown",
      "metadata": {
        "id": "btye9kkOe7aR"
      },
      "source": [
        "## Problem 6\n",
        "\n",
        "Create a function that returns `true` if a given inequality expression is correct and `false` otherwise.\n",
        "\n",
        "Examples\n",
        ">correct_signs(\"3 < 7 < 11\") ➞ True\n",
        ">\n",
        ">correct_signs(\"13 > 44 > 33 > 1\") ➞ False\n",
        ">\n",
        ">correct_signs(\"1 < 2 < 6 < 9 > 3\") ➞ True\n"
      ]
    },
    {
      "cell_type": "code",
      "metadata": {
        "id": "_bXHYEX3wlaG",
        "outputId": "1aecc68b-d7e3-4b8a-d0f6-330c5b8c76ff",
        "colab": {
          "base_uri": "https://localhost:8080/"
        }
      },
      "source": [
        "def correct_signs(exprn):\n",
        "  return eval(exprn)\n",
        "correct_signs(\"1 < 2 < 6 < 9 > 3\")\n",
        "correct_signs(\"13 > 44 > 33 > 1\")"
      ],
      "execution_count": 6,
      "outputs": [
        {
          "output_type": "execute_result",
          "data": {
            "text/plain": [
              "False"
            ]
          },
          "metadata": {},
          "execution_count": 6
        }
      ]
    },
    {
      "cell_type": "markdown",
      "metadata": {
        "id": "K_Zxu8rwe7aS"
      },
      "source": [
        "## Problem 7\n",
        "\n",
        "Write a function that takes a list and a number as arguments. Add the number to the end of the list, then remove the first element of the list. The function should then return the updated list.\n",
        "\n",
        "Examples\n",
        ">next_in_line([5, 6, 7, 8, 9], 1) ➞ [6, 7, 8, 9, 1]\n",
        ">\n",
        ">next_in_line([7, 6, 3, 23, 17], 10) ➞ [6, 3, 23, 17, 10]\n",
        ">\n",
        ">next_in_line([1, 10, 20, 42 ], 6) ➞ [10, 20, 42, 6]\n",
        ">\n",
        ">next_in_line([], 6) ➞ \"No list has been selected\"\n",
        "\n",
        "Notes\n",
        "\n",
        "    For an empty list input, return: \"No list has been selected\""
      ]
    },
    {
      "cell_type": "code",
      "metadata": {
        "id": "cJxI2vixxB7B",
        "outputId": "69686937-13a6-4cf2-8fea-5dfd79054be8",
        "colab": {
          "base_uri": "https://localhost:8080/",
          "height": 36
        }
      },
      "source": [
        "def next_in_line(listIn, numIn):\n",
        "  if not listIn:\n",
        "    return \"No list has been selected\"\n",
        "  ans = listIn+[numIn]\n",
        "  ans.pop(0)\n",
        "  return ans\n",
        "next_in_line([5, 6, 7, 8, 9], 1)\n",
        "next_in_line([], 6) "
      ],
      "execution_count": 18,
      "outputs": [
        {
          "output_type": "execute_result",
          "data": {
            "application/vnd.google.colaboratory.intrinsic+json": {
              "type": "string"
            },
            "text/plain": [
              "'No list has been selected'"
            ]
          },
          "metadata": {},
          "execution_count": 18
        }
      ]
    },
    {
      "cell_type": "markdown",
      "metadata": {
        "id": "ZIwJZ4lVe7aS"
      },
      "source": [
        "## Problem 8\n",
        "Create a function that takes a list of strings and integers, and filters out the list so that it returns a list of integers only.\n",
        "\n",
        "Examples\n",
        ">filter_list([1, 2, 3, \"a\", \"b\", 4]) ➞ [1, 2, 3, 4]\n",
        ">\n",
        ">filter_list([\"A\", 0, \"Edabit\", 1729, \"Python\", \"1729\"]) ➞ [0, 1729]\n",
        ">\n",
        ">filter_list([\"Nothing\", \"here\"]) ➞ []\n",
        "\n",
        "Notes\n",
        "    \n",
        "    Don't overthink this one."
      ]
    },
    {
      "cell_type": "code",
      "metadata": {
        "id": "XmPI_z9L0e7V",
        "outputId": "14b55c65-55e3-4d2f-dd8a-4d347545f087",
        "colab": {
          "base_uri": "https://localhost:8080/"
        }
      },
      "source": [
        "def filter_list(inList):\n",
        "  return list(filter(lambda x: type(x) is int, inList))\n",
        "filter_list([\"A\", 0, \"Edabit\", 1729, \"Python\", \"1729\"])\n",
        "filter_list([\"Nothing\", \"here\"]) "
      ],
      "execution_count": 24,
      "outputs": [
        {
          "output_type": "execute_result",
          "data": {
            "text/plain": [
              "[]"
            ]
          },
          "metadata": {},
          "execution_count": 24
        }
      ]
    },
    {
      "cell_type": "markdown",
      "metadata": {
        "id": "F8pmcBBke7aS"
      },
      "source": [
        "## Problem 9\n",
        "\n",
        "A set is a collection of unique items. A set can be formed from a list from removing all duplicate items.\n",
        "\n",
        ">[1, 3, 3, 5, 5, 5]\n",
        ">\\# original list\n",
        ">\n",
        ">[1, 3, 5]\n",
        ">\\# original list transformed into a set\n",
        "\n",
        "Create a function that sorts a list and removes all duplicate items from it.\n",
        "\n",
        "Examples\n",
        "\n",
        ">setify([1, 3, 3, 5, 5]) ➞ [1, 3, 5]\n",
        ">\n",
        ">setify([4, 4, 4, 4]) ➞ [4]\n",
        ">\n",
        ">setify([5, 7, 8, 9, 10, 15]) ➞ [5, 7, 8, 9, 10, 15]\n",
        "\n",
        ">setify([3, 3, 3, 2, 1]) ➞ [1, 2, 3]\n",
        "\n",
        "Notes\n",
        "    \n",
        "    Return a sorted list."
      ]
    },
    {
      "cell_type": "code",
      "metadata": {
        "id": "kjrmCCRR1vr0",
        "outputId": "a0f7e1e0-f951-425f-ef34-eb59af5f0e04",
        "colab": {
          "base_uri": "https://localhost:8080/"
        }
      },
      "source": [
        "def setify(inList):\n",
        "  return list(set(inList))\n",
        "setify([3, 3, 3, 2, 1])\n",
        "setify([5, 7, 8, 9, 10, 15])"
      ],
      "execution_count": 26,
      "outputs": [
        {
          "output_type": "execute_result",
          "data": {
            "text/plain": [
              "[5, 7, 8, 9, 10, 15]"
            ]
          },
          "metadata": {},
          "execution_count": 26
        }
      ]
    },
    {
      "cell_type": "markdown",
      "metadata": {
        "id": "7aBfUayoe7aT"
      },
      "source": [
        "## Problem 10\n",
        "Create a function that takes a string and returns a new string with all vowels removed.\n",
        "\n",
        "Examples:\n",
        ">remove_vowels(\"I have never seen a thin person drinking Diet Coke.\")\n",
        "➞ \" hv nvr sn  thn prsn drnkng Dt Ck.\"\n",
        ">\n",
        ">remove_vowels(\"We're gonna build a wall!\")\n",
        "➞ \"W'r gnn bld  wll!\"\n",
        ">\n",
        ">remove_vowels(\"Happy Thanksgiving to all--even the haters and losers!\")\n",
        "➞ \"Hppy Thnksgvng t ll--vn th htrs nd lsrs!\"\n",
        "\n",
        "Hint\n",
        "    \n",
        "    You can use the replace() method to remove characters from a string."
      ]
    },
    {
      "cell_type": "code",
      "metadata": {
        "id": "xa4iv3jE2FAs",
        "outputId": "7109b73d-3082-4351-f0cb-af23fedd28d9",
        "colab": {
          "base_uri": "https://localhost:8080/",
          "height": 36
        }
      },
      "source": [
        "def remove_vowels(inStr):\n",
        "  return \"\".join(list(filter(lambda x: x not in ['a','e','i','o','u'],inStr)))\n",
        "remove_vowels(\"We're gonna build a wall!\")  \n",
        "remove_vowels(\"Happy Thanksgiving to all--even the haters and losers!\") "
      ],
      "execution_count": 30,
      "outputs": [
        {
          "output_type": "execute_result",
          "data": {
            "application/vnd.google.colaboratory.intrinsic+json": {
              "type": "string"
            },
            "text/plain": [
              "'Hppy Thnksgvng t ll--vn th htrs nd lsrs!'"
            ]
          },
          "metadata": {},
          "execution_count": 30
        }
      ]
    }
  ]
}