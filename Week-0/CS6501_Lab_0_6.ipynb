{
  "nbformat": 4,
  "nbformat_minor": 0,
  "metadata": {
    "colab": {
      "name": "CS6501_Lab_0_6.ipynb",
      "provenance": []
    },
    "kernelspec": {
      "name": "python3",
      "display_name": "Python 3"
    },
    "language_info": {
      "name": "python"
    }
  },
  "cells": [
    {
      "cell_type": "markdown",
      "metadata": {
        "id": "DpnmKmf-T7zi"
      },
      "source": [
        "<div>\n",
        "<img src=\"https://drive.google.com/uc?export=view&id=1vK33e_EqaHgBHcbRV_m38hx6IkG0blK_\" width=\"350\"/>\n",
        "</div> \n",
        "\n",
        "#**Artificial Intelligence - MSc**\n",
        "CS6501 - MACHINE LEARNING AND APPLICATIONS \n",
        "\n",
        "###Instructor: Enrique Naredo\n",
        "###CS6501_Lab-0.6"
      ]
    },
    {
      "cell_type": "markdown",
      "metadata": {
        "id": "PFvNOA7si2d_"
      },
      "source": [
        "# Numpy"
      ]
    },
    {
      "cell_type": "markdown",
      "metadata": {
        "id": "_JcEGZQDi2eC"
      },
      "source": [
        "\n",
        "This part focuses on Numpy, see <a href=\"https://numpy.org/doc/stable/user/quickstart.html\">numpy quickstart tutorial</a>, which I encourage you to reference throughout the course.\n",
        "\n",
        "\n",
        "Some problems about numpy\n",
        "\n"
      ]
    },
    {
      "cell_type": "markdown",
      "metadata": {
        "id": "B3kV5EJgi2eD"
      },
      "source": [
        "# Problem 1 \n",
        "\n",
        "Create a null vector of size 10 (that is a vector that includes 10 zeros) and print it"
      ]
    },
    {
      "cell_type": "code",
      "metadata": {
        "id": "4joqyqsCi2eD",
        "outputId": "c35f5f3e-ac19-4adc-9139-a4039dc92f6e",
        "colab": {
          "base_uri": "https://localhost:8080/"
        }
      },
      "source": [
        "#solution\n",
        "import numpy as np\n",
        "Z = np.zeros(10)\n",
        "print(Z)"
      ],
      "execution_count": 1,
      "outputs": [
        {
          "output_type": "stream",
          "name": "stdout",
          "text": [
            "[0. 0. 0. 0. 0. 0. 0. 0. 0. 0.]\n"
          ]
        }
      ]
    },
    {
      "cell_type": "markdown",
      "metadata": {
        "id": "Rt9bieP8i2eF"
      },
      "source": [
        "# Problem 2\n",
        "Create a null vector of size 10 but the fifth value which is 1 "
      ]
    },
    {
      "cell_type": "code",
      "metadata": {
        "id": "Tl0VoDyB1uqc",
        "outputId": "531d0ab4-5123-446b-87a6-18e03ab7f587",
        "colab": {
          "base_uri": "https://localhost:8080/"
        }
      },
      "source": [
        "import numpy as np\n",
        "z = np.zeros(10)\n",
        "z[5]=1\n",
        "z"
      ],
      "execution_count": 2,
      "outputs": [
        {
          "output_type": "execute_result",
          "data": {
            "text/plain": [
              "array([0., 0., 0., 0., 0., 1., 0., 0., 0., 0.])"
            ]
          },
          "metadata": {},
          "execution_count": 2
        }
      ]
    },
    {
      "cell_type": "markdown",
      "metadata": {
        "id": "S5olPsQKi2eF"
      },
      "source": [
        "# Problem 3\n",
        "Create a vector with all integer values ranging from 10 to 49.\n",
        "\n",
        "Hint\n",
        "\n",
        "    You can use a loop with range(10,49)"
      ]
    },
    {
      "cell_type": "code",
      "metadata": {
        "id": "a1crxEiI13wA",
        "outputId": "acfd9f6d-e7cc-4421-f146-460ff59a5f0e",
        "colab": {
          "base_uri": "https://localhost:8080/"
        }
      },
      "source": [
        "np.array(range(10,50))"
      ],
      "execution_count": 4,
      "outputs": [
        {
          "output_type": "execute_result",
          "data": {
            "text/plain": [
              "array([10, 11, 12, 13, 14, 15, 16, 17, 18, 19, 20, 21, 22, 23, 24, 25, 26,\n",
              "       27, 28, 29, 30, 31, 32, 33, 34, 35, 36, 37, 38, 39, 40, 41, 42, 43,\n",
              "       44, 45, 46, 47, 48, 49])"
            ]
          },
          "metadata": {},
          "execution_count": 4
        }
      ]
    },
    {
      "cell_type": "markdown",
      "metadata": {
        "id": "mLZtIlQti2eF"
      },
      "source": [
        "# Problem 4\n",
        " Create a 3x3 matrix with values ranging from 0 to 8 "
      ]
    },
    {
      "cell_type": "code",
      "metadata": {
        "id": "_LhVON7s2JDo",
        "outputId": "f1cbdd0e-593a-428c-9e6a-a0332d4837ad",
        "colab": {
          "base_uri": "https://localhost:8080/"
        }
      },
      "source": [
        "np.array([list(range(0,3)),list(range(3,6)),list(range(6,9))],np.int32)"
      ],
      "execution_count": 5,
      "outputs": [
        {
          "output_type": "execute_result",
          "data": {
            "text/plain": [
              "array([[0, 1, 2],\n",
              "       [3, 4, 5],\n",
              "       [6, 7, 8]], dtype=int32)"
            ]
          },
          "metadata": {},
          "execution_count": 5
        }
      ]
    },
    {
      "cell_type": "markdown",
      "metadata": {
        "id": "F9SJOjgMi2eG"
      },
      "source": [
        "# Problem 5\n",
        "Create a 3x3x3 array with random values.\n",
        "\n",
        "Hint\n",
        "\n",
        "    You can use np.random.random"
      ]
    },
    {
      "cell_type": "code",
      "metadata": {
        "id": "Omj8V3nj2hPg",
        "outputId": "bfffcc96-48ed-467c-9efa-96120be325ca",
        "colab": {
          "base_uri": "https://localhost:8080/"
        }
      },
      "source": [
        "import numpy as np\n",
        "np.array([[np.random.random() for _ in range(3)] for _ in range(3)])"
      ],
      "execution_count": 6,
      "outputs": [
        {
          "output_type": "execute_result",
          "data": {
            "text/plain": [
              "array([[0.79783118, 0.60856222, 0.61172733],\n",
              "       [0.55402406, 0.42971858, 0.68110019],\n",
              "       [0.91430232, 0.00659929, 0.40011361]])"
            ]
          },
          "metadata": {},
          "execution_count": 6
        }
      ]
    }
  ]
}