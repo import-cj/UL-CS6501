{
  "nbformat": 4,
  "nbformat_minor": 0,
  "metadata": {
    "colab": {
      "name": "CS6501_Lab_0_3.ipynb",
      "provenance": []
    },
    "kernelspec": {
      "name": "python3",
      "display_name": "Python 3"
    },
    "language_info": {
      "name": "python"
    }
  },
  "cells": [
    {
      "cell_type": "markdown",
      "metadata": {
        "id": "7EMOVC9CSMWZ"
      },
      "source": [
        "<div>\n",
        "<img src=\"https://drive.google.com/uc?export=view&id=1vK33e_EqaHgBHcbRV_m38hx6IkG0blK_\" width=\"350\"/>\n",
        "</div> \n",
        "\n",
        "#**Artificial Intelligence - MSc**\n",
        "CS6501 - MACHINE LEARNING AND APPLICATIONS \n",
        "\n",
        "###Instructor: Enrique Naredo\n",
        "###CS6501_Lab-0.3"
      ]
    },
    {
      "cell_type": "markdown",
      "metadata": {
        "id": "MO7zz7oze7aL"
      },
      "source": [
        "## Problem 1\n",
        "Create a Python function that takes two numbers as arguments and return their sum.\n",
        "\n",
        "Examples\n",
        "\n",
        ">addition(3, 2) ➞ 5\n",
        ">\n",
        ">addition(-3, -6) ➞ -9\n",
        ">\n",
        ">addition(7, 3) ➞ 10\n",
        "\n",
        "Notes\n",
        "\n",
        "    Don't forget to return the `result`.\n"
      ]
    },
    {
      "cell_type": "code",
      "metadata": {
        "id": "nGTUml7pe7aO"
      },
      "source": [
        "##Solution\n",
        "# you could use different name\n",
        "# for your own function\n",
        "def summation(a, b):\n",
        "    return a + b"
      ],
      "execution_count": 1,
      "outputs": []
    },
    {
      "cell_type": "code",
      "metadata": {
        "id": "dwX41rUEnKaC"
      },
      "source": [
        "def FionnualaAmazingSum(FirstNumber, SecondNumber): \n",
        "  return FirstNumber + SecondNumber"
      ],
      "execution_count": 2,
      "outputs": []
    },
    {
      "cell_type": "code",
      "metadata": {
        "id": "hsauBOzwqlva",
        "outputId": "16f31ced-c4b0-48af-9e98-bd0077c3744a",
        "colab": {
          "base_uri": "https://localhost:8080/"
        }
      },
      "source": [
        "FionnualaAmazingSum(2,4)"
      ],
      "execution_count": 3,
      "outputs": [
        {
          "output_type": "execute_result",
          "data": {
            "text/plain": [
              "6"
            ]
          },
          "metadata": {},
          "execution_count": 3
        }
      ]
    },
    {
      "cell_type": "markdown",
      "metadata": {
        "id": "yi_QEoP_e7aP"
      },
      "source": [
        "## Problem 2"
      ]
    },
    {
      "cell_type": "markdown",
      "metadata": {
        "id": "lF73hLWne7aP"
      },
      "source": [
        "Create a function that takes a number as an argument, increments the number by +1 and returns the result.\n",
        "\n",
        "Examples\n",
        "\n",
        ">addition(0) ➞ 1\n",
        ">\n",
        ">addition(9) ➞ 10\n",
        ">\n",
        ">addition(-3) ➞ -2\n",
        "\n"
      ]
    },
    {
      "cell_type": "code",
      "metadata": {
        "id": "F1mh5oHVvBeH",
        "outputId": "2adefb17-9cc0-46ff-e02f-afd80e83926d",
        "colab": {
          "base_uri": "https://localhost:8080/"
        }
      },
      "source": [
        "def addition(n):\n",
        "  return n+1\n",
        "addition(-4)"
      ],
      "execution_count": 10,
      "outputs": [
        {
          "output_type": "execute_result",
          "data": {
            "text/plain": [
              "-3"
            ]
          },
          "metadata": {},
          "execution_count": 10
        }
      ]
    },
    {
      "cell_type": "markdown",
      "metadata": {
        "id": "F7nPbb2Re7aP"
      },
      "source": [
        "## Problem 3"
      ]
    },
    {
      "cell_type": "markdown",
      "metadata": {
        "id": "MZoaonXIe7aQ"
      },
      "source": [
        "Create a function that takes a string and returns it as an integer.\n",
        "\n",
        "Examples\n",
        "\n",
        ">string_int(\"6\") ➞ 6\n",
        ">\n",
        ">string_int(\"1000\") ➞ 1000\n",
        ">\n",
        ">string_int(\"12\") ➞ 12\n",
        "\n",
        "Notes\n",
        "\n",
        "    All numbers will be whole numbers."
      ]
    },
    {
      "cell_type": "code",
      "metadata": {
        "id": "FvQsXCfivS7x",
        "outputId": "15e339dc-ffcb-4900-82d4-5382d67d6dae",
        "colab": {
          "base_uri": "https://localhost:8080/"
        }
      },
      "source": [
        "def string_int(s):\n",
        "  return int(s)\n",
        "string_int('003')"
      ],
      "execution_count": 8,
      "outputs": [
        {
          "output_type": "execute_result",
          "data": {
            "text/plain": [
              "3"
            ]
          },
          "metadata": {},
          "execution_count": 8
        }
      ]
    },
    {
      "cell_type": "markdown",
      "metadata": {
        "id": "JEr8q-fke7aQ"
      },
      "source": [
        "## Problem 4"
      ]
    },
    {
      "cell_type": "markdown",
      "metadata": {
        "id": "lbOLiTTUe7aQ"
      },
      "source": [
        "Create a function that takes a base number and an exponent number and returns the calculation.\n",
        "\n",
        "Examples\n",
        "\n",
        ">calculate_exponent(5, 5) ➞ 3125\n",
        ">\n",
        ">calculate_exponent(10, 10) ➞ 10000000000\n",
        ">\n",
        ">calculate_exponent(3, 3) ➞ 27\n",
        "\n",
        "Notes\n",
        "\n",
        "    All test inputs will be positive integers.\n"
      ]
    },
    {
      "cell_type": "code",
      "metadata": {
        "id": "j0fdL8FEvpMW",
        "outputId": "9f7bf633-8993-4c9a-8a79-e237e24c3900",
        "colab": {
          "base_uri": "https://localhost:8080/"
        }
      },
      "source": [
        "def calculate_exponent(base,exponent):\n",
        "  return base**exponent\n",
        "calculate_exponent(5,5)"
      ],
      "execution_count": 12,
      "outputs": [
        {
          "output_type": "execute_result",
          "data": {
            "text/plain": [
              "3125"
            ]
          },
          "metadata": {},
          "execution_count": 12
        }
      ]
    },
    {
      "cell_type": "markdown",
      "metadata": {
        "id": "duGb44Tre7aR"
      },
      "source": [
        "## Problem 5\n",
        "\n",
        "Create a function that takes an integer and returns the factorial of that integer. That is, the integer multiplied by all positive lower integers.\n",
        "\n",
        "Examples\n",
        "\n",
        ">factorial(3) ➞ 6\n",
        ">\n",
        ">factorial(5) ➞ 120\n",
        ">\n",
        ">factorial(13) ➞ 6227020800\n",
        "\n",
        "Notes\n",
        "\n",
        "    Assume all inputs are greater than or equal to 0."
      ]
    },
    {
      "cell_type": "code",
      "metadata": {
        "id": "Sek_6SB4v4Qr",
        "outputId": "e74d4e62-7289-4087-cf37-0bd82d456deb",
        "colab": {
          "base_uri": "https://localhost:8080/"
        }
      },
      "source": [
        "def factorial(n):\n",
        "  if (n<2):\n",
        "    return 1\n",
        "  return n*factorial(n-1)\n",
        "factorial(0)\n",
        "factorial(4)"
      ],
      "execution_count": 16,
      "outputs": [
        {
          "output_type": "execute_result",
          "data": {
            "text/plain": [
              "24"
            ]
          },
          "metadata": {},
          "execution_count": 16
        }
      ]
    }
  ]
}