{
  "nbformat": 4,
  "nbformat_minor": 0,
  "metadata": {
    "colab": {
      "name": "CS6501_Lab_0_7.ipynb",
      "provenance": []
    },
    "kernelspec": {
      "name": "python3",
      "display_name": "Python 3"
    },
    "language_info": {
      "name": "python"
    }
  },
  "cells": [
    {
      "cell_type": "markdown",
      "metadata": {
        "id": "r9vRZxggUbg6"
      },
      "source": [
        "<div>\n",
        "<img src=\"https://drive.google.com/uc?export=view&id=1vK33e_EqaHgBHcbRV_m38hx6IkG0blK_\" width=\"350\"/>\n",
        "</div> \n",
        "\n",
        "#**Artificial Intelligence - MSc**\n",
        "CS6501 - MACHINE LEARNING AND APPLICATIONS \n",
        "\n",
        "###Instructor: Enrique Naredo\n",
        "###CS6501_Lab-0.7"
      ]
    },
    {
      "cell_type": "markdown",
      "metadata": {
        "id": "PFvNOA7si2d_"
      },
      "source": [
        "# Numpy"
      ]
    },
    {
      "cell_type": "markdown",
      "metadata": {
        "id": "_JcEGZQDi2eC"
      },
      "source": [
        "\n",
        "This part focuses on Numpy, see <a href=\"https://numpy.org/doc/stable/user/quickstart.html\">numpy quickstart tutorial</a>, which I encourage you to reference throughout the course.\n",
        "\n",
        "\n",
        "Some problems about numpy\n",
        "\n"
      ]
    },
    {
      "cell_type": "markdown",
      "metadata": {
        "id": "eGjXvhYEi2eG"
      },
      "source": [
        "# Problem 6\n",
        "Create a 10x10 array with random values and find the minimum and maximum values"
      ]
    },
    {
      "cell_type": "code",
      "metadata": {
        "id": "O53r3Lra-AbD",
        "outputId": "f3c8ff86-210a-4519-f98d-05990d13b2b8",
        "colab": {
          "base_uri": "https://localhost:8080/"
        }
      },
      "source": [
        "import numpy as np\n",
        "rg = np.random.default_rng(100)\n",
        "a=rg.random((10,10))\n",
        "a.min()\n",
        "a.max()"
      ],
      "execution_count": 6,
      "outputs": [
        {
          "output_type": "execute_result",
          "data": {
            "text/plain": [
              "0.9976744931721895"
            ]
          },
          "metadata": {},
          "execution_count": 6
        }
      ]
    },
    {
      "cell_type": "markdown",
      "metadata": {
        "id": "mzF2KFJdi2eG"
      },
      "source": [
        "# Problem 7\n",
        "Create a random vector of size 30 and find the mean value "
      ]
    },
    {
      "cell_type": "code",
      "metadata": {
        "id": "sZgMpKIZ-o1l",
        "outputId": "2ae5a3ba-ee1b-4009-8abe-e954275a4997",
        "colab": {
          "base_uri": "https://localhost:8080/"
        }
      },
      "source": [
        "v=rg.random(30)\n",
        "v.mean()"
      ],
      "execution_count": 8,
      "outputs": [
        {
          "output_type": "execute_result",
          "data": {
            "text/plain": [
              "0.5588044891630077"
            ]
          },
          "metadata": {},
          "execution_count": 8
        }
      ]
    },
    {
      "cell_type": "markdown",
      "metadata": {
        "id": "8hbO1bKni2eH"
      },
      "source": [
        "# Problem 8\n",
        "Create a 5x5 matrix with values 1,2,3,4 just below the diagonal"
      ]
    },
    {
      "cell_type": "code",
      "metadata": {
        "id": "tP-VNzCS_Z6v",
        "outputId": "2daf09ca-7463-4aa7-d84a-783c7e7dad5c",
        "colab": {
          "base_uri": "https://localhost:8080/"
        }
      },
      "source": [
        "np.diag([1, 2, 3, 4, 5])\n"
      ],
      "execution_count": 21,
      "outputs": [
        {
          "output_type": "execute_result",
          "data": {
            "text/plain": [
              "array([[1, 0, 0, 0, 0],\n",
              "       [0, 2, 0, 0, 0],\n",
              "       [0, 0, 3, 0, 0],\n",
              "       [0, 0, 0, 4, 0],\n",
              "       [0, 0, 0, 0, 5]])"
            ]
          },
          "metadata": {},
          "execution_count": 21
        }
      ]
    },
    {
      "cell_type": "markdown",
      "metadata": {
        "id": "XRUmWno7i2eH"
      },
      "source": [
        "# Problem 9\n",
        "Create a random vector of size 10 and sort it \n"
      ]
    },
    {
      "cell_type": "code",
      "metadata": {
        "id": "Zq2A9BixBthB",
        "outputId": "fc90062a-226f-43bb-fd7d-8c47c563d72b",
        "colab": {
          "base_uri": "https://localhost:8080/"
        }
      },
      "source": [
        "rg = np.random.default_rng(100)\n",
        "a=rg.random(10)\n",
        "print(np.sort(a))"
      ],
      "execution_count": 25,
      "outputs": [
        {
          "output_type": "stream",
          "name": "stdout",
          "text": [
            "[0.04295157 0.18999147 0.28886324 0.5964717  0.59655403 0.68815445\n",
            " 0.79026316 0.83498163 0.91033938 0.9736544 ]\n"
          ]
        }
      ]
    },
    {
      "cell_type": "markdown",
      "metadata": {
        "id": "A1xyFNONi2eH"
      },
      "source": [
        "# Problem 10\n",
        "\n",
        "Subtract the mean of each row of a matrix (Use `X = np.random.rand(5, 10)` to generate the array)"
      ]
    },
    {
      "cell_type": "code",
      "metadata": {
        "id": "F6JW-gKdEXYw",
        "outputId": "4434df54-8780-48e0-a3ba-a0ad892f4b9e",
        "colab": {
          "base_uri": "https://localhost:8080/"
        }
      },
      "source": [
        "x=np.random.rand(5,10)\n",
        "print(x-np.mean(x))"
      ],
      "execution_count": 32,
      "outputs": [
        {
          "output_type": "stream",
          "name": "stdout",
          "text": [
            "[[ 0.43442431 -0.24591997  0.46897389  0.45496786  0.32367414  0.04207184\n",
            "  -0.25649554  0.41040439  0.17571608 -0.15292872]\n",
            " [-0.30935459 -0.28539499  0.09235587  0.2502629  -0.03813465 -0.28284877\n",
            "  -0.38780093  0.26255372 -0.19366122 -0.26845402]\n",
            " [-0.44104245  0.18020792 -0.38405753 -0.41927628 -0.05439956  0.36479118\n",
            "   0.02318458  0.13952372 -0.28361258  0.23403491]\n",
            " [ 0.3867183  -0.10306873  0.26042524 -0.20115874  0.14848512 -0.26442361\n",
            "  -0.50521449 -0.2152535   0.40054558 -0.52092587]\n",
            " [ 0.28547726 -0.30492383 -0.4745264   0.35213552  0.16679924  0.26449869\n",
            "   0.45455359  0.12759001 -0.49571517  0.38421627]]\n"
          ]
        }
      ]
    }
  ]
}