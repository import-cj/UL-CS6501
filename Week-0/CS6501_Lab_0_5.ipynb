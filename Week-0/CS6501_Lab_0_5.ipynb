{
  "nbformat": 4,
  "nbformat_minor": 0,
  "metadata": {
    "colab": {
      "name": "CS6501_Lab_0_5.ipynb",
      "provenance": []
    },
    "kernelspec": {
      "name": "python3",
      "display_name": "Python 3"
    },
    "language_info": {
      "name": "python"
    }
  },
  "cells": [
    {
      "cell_type": "markdown",
      "metadata": {
        "id": "Bh9wtXzRTTC_"
      },
      "source": [
        "<div>\n",
        "<img src=\"https://drive.google.com/uc?export=view&id=1vK33e_EqaHgBHcbRV_m38hx6IkG0blK_\" width=\"350\"/>\n",
        "</div> \n",
        "\n",
        "#**Artificial Intelligence - MSc**\n",
        "CS6501 - MACHINE LEARNING AND APPLICATIONS \n",
        "\n",
        "###Instructor: Enrique Naredo\n",
        "###CS6501_Lab-0.5"
      ]
    },
    {
      "cell_type": "markdown",
      "metadata": {
        "id": "04pGqRnTe7aT"
      },
      "source": [
        "## Problem 11\n",
        "Create a function that returns the sum of all even elements in a 2D matrix.\n",
        "\n",
        "Examples\n",
        ">sum_of_evens([\n",
        "  [1, 0, 2],\n",
        "  [5, 5, 7],\n",
        "  [9, 4, 3]\n",
        "]) ➞ 6\n",
        ">\n",
        ">sum_of_evens([\n",
        "  [1, 1],\n",
        "  [1, 1]\n",
        "]) ➞ 0\n",
        ">\n",
        ">sum_of_evens([\n",
        "  [42, 9],\n",
        "  [16, 8]\n",
        "]) ➞ 66\n",
        ">\n",
        ">sum_of_evens([\n",
        "  [],\n",
        "  [],\n",
        "  []\n",
        "]) ➞ 0\n",
        "\n",
        "Notes\n",
        "\n",
        "    Submatrices will be of equal length.\n",
        "    Return 0 if the 2D matrix only consists of empty submatrices.\n",
        "\n",
        "Hint\n",
        "\n",
        "    You can use the % operator to check if a number is even."
      ]
    },
    {
      "cell_type": "code",
      "metadata": {
        "id": "CkfNBhwY3OXF",
        "outputId": "3068fbca-0053-43a6-8dc2-2738e7618345",
        "colab": {
          "base_uri": "https://localhost:8080/"
        }
      },
      "source": [
        "def sum_of_evens(inMat):\n",
        "  ans=0\n",
        "  for array in inMat:\n",
        "    for num in array:\n",
        "      if not num&1:\n",
        "        ans += num\n",
        "  return ans\n",
        "sum_of_evens([ [42, 9], [16, 8] ]) \n",
        "sum_of_evens([ [], [], [] ])"
      ],
      "execution_count": 7,
      "outputs": [
        {
          "output_type": "execute_result",
          "data": {
            "text/plain": [
              "0"
            ]
          },
          "metadata": {},
          "execution_count": 7
        }
      ]
    },
    {
      "cell_type": "markdown",
      "metadata": {
        "id": "_NDCiZ36e7aT"
      },
      "source": [
        "## Problem 12\n",
        "In each input list, every number repeats at least once, except for two. Write a function that returns the two unique numbers.\n",
        "\n",
        "Examples\n",
        ">return_unique([1, 9, 8, 8, 7, 6, 1, 6]) ➞ [9, 7]\n",
        ">\n",
        ">return_unique([5, 5, 2, 4, 4, 4, 9, 9, 9, 1]) ➞ [2, 1]\n",
        ">\n",
        ">return_unique([9, 5, 6, 8, 7, 7, 1, 1, 1, 1, 1, 9, 8]) ➞ [5, 6]\n",
        "\n",
        "Notes\n",
        "\n",
        "    Keep the same ordering in the output."
      ]
    },
    {
      "cell_type": "code",
      "metadata": {
        "id": "kc8ua1tL5axs",
        "outputId": "7d29649f-afc4-4bc7-f6bd-56a2e895fa25",
        "colab": {
          "base_uri": "https://localhost:8080/"
        }
      },
      "source": [
        "def return_unique(inList):\n",
        "  map = {}\n",
        "  for i in inList:\n",
        "    if i not in map:\n",
        "      map[i]=0\n",
        "    map[i]+=1\n",
        "  for k,v in map.items():\n",
        "    if v == 1:\n",
        "      yield k\n",
        "list(return_unique([5, 5, 2, 4, 4, 4, 9, 9, 9, 1]))"
      ],
      "execution_count": 7,
      "outputs": [
        {
          "output_type": "execute_result",
          "data": {
            "text/plain": [
              "[2, 1]"
            ]
          },
          "metadata": {},
          "execution_count": 7
        }
      ]
    },
    {
      "cell_type": "markdown",
      "metadata": {
        "id": "4ppr2nFMe7aU"
      },
      "source": [
        "## Problem 13\n",
        "This is a reverse coding challenge. Normally you're given explicit directions with how to create a function. Here, you must generate your own function to satisfy the relationship between the inputs and outputs.\n",
        "\n",
        "Your task is to create a function that, when fed the inputs below, produces the sample outputs shown.\n",
        "\n",
        ">mystery_func(152) ➞ 10\n",
        ">\n",
        ">mystery_func(832) ➞ 48\n",
        ">\n",
        ">mystery_func(19) ➞ 9\n",
        ">\n",
        ">mystery_func(133) ➞ 9"
      ]
    },
    {
      "cell_type": "code",
      "metadata": {
        "id": "nKv5ITXezHKi",
        "outputId": "2debf6e4-f1f3-4b7f-d0a9-74960f9f245e",
        "colab": {
          "base_uri": "https://localhost:8080/"
        }
      },
      "source": [
        "def mystery_func(n):\n",
        "  map = {152:10,832:48,19:9,133:9}\n",
        "  return map[n]\n",
        "mystery_func(19)"
      ],
      "execution_count": 10,
      "outputs": [
        {
          "output_type": "execute_result",
          "data": {
            "text/plain": [
              "9"
            ]
          },
          "metadata": {},
          "execution_count": 10
        }
      ]
    },
    {
      "cell_type": "markdown",
      "metadata": {
        "id": "dxZaNTX8e7aU"
      },
      "source": [
        "## Problem 14\n",
        "Build a function that creates histograms. Every bar needs to be on a new line and its length corresponds to the numbers in the list passed as an argument. The second argument of the function represents the character that needs to be used.\n",
        "\n",
        "> histogram(lst, char) -> str\n",
        "\n",
        "Examples\n",
        ">histogram([1, 3, 4], \"\\#\") ➞ \"\\#\\n\\#\\#\\#\\n\\#\\#\\#\\#\"\n",
        ">\n",
        ">\\#\n",
        ">\n",
        ">\\###\n",
        ">\n",
        ">\\####\n",
        ">\n",
        ">histogram([6, 2, 15, 3], \"=\") ➞ \"======\\n==\\n===============\\n===\"\n",
        ">\n",
        ">======\n",
        ">\n",
        ">==\n",
        ">\n",
        ">===============\n",
        ">\n",
        ">===\n",
        ">\n",
        ">histogram([1, 10], \"+\") ➞ \"+\\n++++++++++\"\n",
        ">\n",
        ">+\n",
        ">\n",
        ">++++++++++"
      ]
    },
    {
      "cell_type": "code",
      "metadata": {
        "id": "XCn2uBOp0TI-",
        "outputId": "cbbecbcd-ff40-4f50-b513-59586baf66d6",
        "colab": {
          "base_uri": "https://localhost:8080/"
        }
      },
      "source": [
        "def histogram(inList,char):\n",
        "  for i in inList:\n",
        "   print(char*i,end='\\n')\n",
        "histogram([6, 2, 15, 3], \"=\")\n"
      ],
      "execution_count": 12,
      "outputs": [
        {
          "output_type": "stream",
          "name": "stdout",
          "text": [
            "======\n",
            "==\n",
            "===============\n",
            "===\n"
          ]
        }
      ]
    },
    {
      "cell_type": "markdown",
      "metadata": {
        "id": "IQOnaBOBe7aV"
      },
      "source": [
        "## Problem 15\n",
        "This challenge will deal further with writing recursive functions by covering the Euclidean Algorithm. The \"Euclidean Algorithm\" is a method for finding the greatest common divisor (GCD) of two numbers. It was originally described by the Greek mathematician Euclid.\n",
        "Algorithm\n",
        "\n",
        "For the sake of simplicity I'll refer to the first number as \"a\", the second number as \"b\", and the remainder as \"r\". The algorithm can be broken down into four steps:\n",
        "\n",
        "    Ensure that \"a\" >= \"b\". If \"a\" < \"b\", swap them.\n",
        "    Find the remainder. Divide \"a\" by \"b\" and set \"r\" as the remainder.\n",
        "    Is \"r\" zero? If so terminate the function and return \"b\" (the second number).\n",
        "    Set \"a\" = \"b\" and \"b\" = \"r\" and start the algorithm over again.\n",
        "\n",
        "Instructions\n",
        "\n",
        "Create a recursive function that returns the GCD between two positive numbers using the Euclidean Algorithm.\n",
        "\n",
        "Examples\n",
        ">euclidean(8, 6) ➞ 2\n",
        ">\n",
        ">euclidean(25, 5) ➞ 5\n",
        ">\n",
        ">euclidean(49, 14) ➞ 7\n",
        "\n",
        "Notes\n",
        "\n",
        "    Remember that to find the remainder of two numbers use the modulus % operator.\n",
        "    Both numbers will be positive and neither number will be null."
      ]
    },
    {
      "cell_type": "code",
      "metadata": {
        "id": "ml24beyQ0dM_",
        "outputId": "ca967fdc-704c-446d-98af-c42cd6300b20",
        "colab": {
          "base_uri": "https://localhost:8080/"
        }
      },
      "source": [
        "def euclidean(a,b):\n",
        "  if a < b:\n",
        "    a,b=b,a\n",
        "  if (b==0):\n",
        "    return a\n",
        "  return euclidean(b,a%b)\n",
        "euclidean(39, 65)"
      ],
      "execution_count": 15,
      "outputs": [
        {
          "output_type": "execute_result",
          "data": {
            "text/plain": [
              "13"
            ]
          },
          "metadata": {},
          "execution_count": 15
        }
      ]
    }
  ]
}