{
  "nbformat": 4,
  "nbformat_minor": 0,
  "metadata": {
    "colab": {
      "name": "CS6501_Lab_0_1.ipynb",
      "provenance": [],
      "include_colab_link": true
    },
    "kernelspec": {
      "name": "python3",
      "display_name": "Python 3"
    },
    "language_info": {
      "name": "python"
    }
  },
  "cells": [
    {
      "cell_type": "markdown",
      "metadata": {
        "id": "view-in-github",
        "colab_type": "text"
      },
      "source": [
        "<a href=\"https://colab.research.google.com/github/import-cj/UL-CS6501/blob/main/Week-0/CS6501_Lab_0_1.ipynb\" target=\"_parent\"><img src=\"https://colab.research.google.com/assets/colab-badge.svg\" alt=\"Open In Colab\"/></a>"
      ]
    },
    {
      "cell_type": "markdown",
      "metadata": {
        "id": "ZnChNjRtxReo"
      },
      "source": [
        "<div>\n",
        "<img src=\"https://drive.google.com/uc?export=view&id=1vK33e_EqaHgBHcbRV_m38hx6IkG0blK_\" width=\"350\"/>\n",
        "</div> \n",
        "\n",
        "#**Artificial Intelligence - MSc**\n",
        "CS6501 - MACHINE LEARNING AND APPLICATIONS \n",
        "\n",
        "###Instructor: Enrique Naredo\n",
        "###CS6501_Lab-0.1"
      ]
    },
    {
      "cell_type": "markdown",
      "metadata": {
        "id": "JLpPSD9Z8pBO"
      },
      "source": [
        "# Python Basics"
      ]
    },
    {
      "cell_type": "markdown",
      "metadata": {
        "id": "CLNU1zRpEwgi"
      },
      "source": [
        "### Markdown Examples"
      ]
    },
    {
      "cell_type": "markdown",
      "metadata": {
        "id": "XEiC0hkaE74A"
      },
      "source": [
        "This is **bold**. \n",
        "\n",
        "This is *italic*. \n",
        "\n",
        "This is ~strikethrough~."
      ]
    },
    {
      "cell_type": "markdown",
      "metadata": {
        "id": "tNFS8gVRFLXS"
      },
      "source": [
        "Mathematical Equations\n",
        "\n",
        "$\\sqrt{3x-1}+(1+x)^2$\n",
        "\n",
        "$e^x=\\sum_{i=0}^\\infty \\frac{1}{i!}x^i$\n",
        "\n",
        "$\\sqrt{\\frac{1}{2}}$"
      ]
    },
    {
      "cell_type": "markdown",
      "metadata": {
        "id": "PRq1ZrpU9kNC"
      },
      "source": [
        "### Python Comments"
      ]
    },
    {
      "cell_type": "code",
      "metadata": {
        "id": "XnuvhtLg9npr"
      },
      "source": [
        "# This is a single line comment"
      ],
      "execution_count": 2,
      "outputs": []
    },
    {
      "cell_type": "code",
      "metadata": {
        "id": "v4LN70Yq-CEm",
        "outputId": "10055e40-b9a0-4426-e092-082277a30a15",
        "colab": {
          "base_uri": "https://localhost:8080/",
          "height": 36
        }
      },
      "source": [
        "'''\n",
        "THIS IS A MULTILINE COMMENT\n",
        "USING STRING LITERALS!\n",
        "'''"
      ],
      "execution_count": 1,
      "outputs": [
        {
          "output_type": "execute_result",
          "data": {
            "application/vnd.google.colaboratory.intrinsic+json": {
              "type": "string"
            },
            "text/plain": [
              "'\\nTHIS IS A MULTILINE COMMENT\\nUSING STRING LITERALS!\\n'"
            ]
          },
          "metadata": {},
          "execution_count": 1
        }
      ]
    },
    {
      "cell_type": "code",
      "metadata": {
        "id": "7cfq_n8U-bNp",
        "outputId": "8cd2747c-52e3-4153-f3ce-5d7941e49c84",
        "colab": {
          "base_uri": "https://localhost:8080/",
          "height": 36
        }
      },
      "source": [
        "\"\"\"\n",
        "This is a comment\n",
        "written in\n",
        "more than just one line\n",
        "\"\"\""
      ],
      "execution_count": 3,
      "outputs": [
        {
          "output_type": "execute_result",
          "data": {
            "application/vnd.google.colaboratory.intrinsic+json": {
              "type": "string"
            },
            "text/plain": [
              "'\\nThis is a comment\\nwritten in\\nmore than just one line\\n'"
            ]
          },
          "metadata": {},
          "execution_count": 3
        }
      ]
    },
    {
      "cell_type": "markdown",
      "metadata": {
        "id": "vhRIJ7OD5iaS"
      },
      "source": [
        "### Python Indentation"
      ]
    },
    {
      "cell_type": "code",
      "metadata": {
        "id": "5m8_yPXz5Vgz",
        "outputId": "18fd6b68-8d45-4d47-ccad-b6b70106cb88",
        "colab": {
          "base_uri": "https://localhost:8080/"
        }
      },
      "source": [
        "## Good indentation\n",
        "\n",
        "if 10 > 5:\n",
        "  print(\"Ten is greater than five!\")"
      ],
      "execution_count": 4,
      "outputs": [
        {
          "output_type": "stream",
          "name": "stdout",
          "text": [
            "Ten is greater than five!\n"
          ]
        }
      ]
    },
    {
      "cell_type": "code",
      "metadata": {
        "id": "r3ezf2th8wqd",
        "outputId": "5a841751-b393-4443-f7a8-580f2626b063",
        "colab": {
          "base_uri": "https://localhost:8080/"
        }
      },
      "source": [
        "## Wrong indentation\n",
        "# add blank spaces to get the right indentation\n",
        "\n",
        "if 10 > 5:\n",
        " print(\"Ten is greater than five!\")"
      ],
      "execution_count": 6,
      "outputs": [
        {
          "output_type": "stream",
          "name": "stdout",
          "text": [
            "Ten is greater than five!\n"
          ]
        }
      ]
    },
    {
      "cell_type": "markdown",
      "metadata": {
        "id": "_vz_Eylu9Ij6"
      },
      "source": [
        "### Python Variables"
      ]
    },
    {
      "cell_type": "code",
      "metadata": {
        "id": "hFE6bW7e9N3X"
      },
      "source": [
        "x = 10\n",
        "y = \"Hello, Friend!\""
      ],
      "execution_count": 7,
      "outputs": []
    },
    {
      "cell_type": "code",
      "metadata": {
        "id": "ctn4HhFW-_M0"
      },
      "source": [
        "z = \"Celtics\"\n",
        "# is the same as\n",
        "z = 'Celtics'"
      ],
      "execution_count": 8,
      "outputs": []
    },
    {
      "cell_type": "code",
      "metadata": {
        "id": "iKYY8GOQ_UAa"
      },
      "source": [
        "a = 4\n",
        "# is NOT the same as\n",
        "A = 4"
      ],
      "execution_count": 9,
      "outputs": []
    },
    {
      "cell_type": "code",
      "metadata": {
        "id": "DqAs1TeI_xXY"
      },
      "source": [
        "# Legal variable names\n",
        "\n",
        "myvar   = \"Anything\"\n",
        "my_var  = \"Anything\"\n",
        "_my_var = \"Anything\"\n",
        "myVar   = \"Anything\"\n",
        "MYVAR   = \"Anything\"\n",
        "myvar2  = \"Anything\""
      ],
      "execution_count": 11,
      "outputs": []
    },
    {
      "cell_type": "code",
      "metadata": {
        "id": "rYeVoiVIAHZE"
      },
      "source": [
        "# Camel Case\n",
        "myVariableName = \"Something\""
      ],
      "execution_count": 10,
      "outputs": []
    },
    {
      "cell_type": "code",
      "metadata": {
        "id": "2SxZ4LsFATuG"
      },
      "source": [
        "# Pascal Case\n",
        "MyVariableName = \"Something\""
      ],
      "execution_count": 12,
      "outputs": []
    },
    {
      "cell_type": "code",
      "metadata": {
        "id": "KTTOCto2Aha_"
      },
      "source": [
        "# Snake Case\n",
        "my_variable_name = \"Something\""
      ],
      "execution_count": 13,
      "outputs": []
    },
    {
      "cell_type": "code",
      "metadata": {
        "id": "Pi4inIHgApVE"
      },
      "source": [
        "# Invent your own case\n",
        "my_VariableNAME = \"Something\""
      ],
      "execution_count": 20,
      "outputs": []
    },
    {
      "cell_type": "code",
      "metadata": {
        "id": "McJxzxxeBEAu",
        "outputId": "13657161-de77-4ec6-8dee-f8fe850ee49d",
        "colab": {
          "base_uri": "https://localhost:8080/"
        }
      },
      "source": [
        "# Many Values to Multiple Variables\n",
        "alpha, beta, gamma = \"Anything\", \"Something\", \"Whatever\"\n",
        "print(alpha)\n",
        "print(beta)\n",
        "print(gamma)"
      ],
      "execution_count": 21,
      "outputs": [
        {
          "output_type": "stream",
          "name": "stdout",
          "text": [
            "Anything\n",
            "Something\n",
            "Whatever\n"
          ]
        }
      ]
    },
    {
      "cell_type": "code",
      "metadata": {
        "id": "Q1-y_vo3BfXC",
        "outputId": "478aff01-d406-4fb6-c22c-a291ee4e7874",
        "colab": {
          "base_uri": "https://localhost:8080/"
        }
      },
      "source": [
        "# One Value to Multiple Variables\n",
        "alpha = beta = gamma = \"Everything\"\n",
        "print(alpha)\n",
        "print(beta)\n",
        "print(gamma)"
      ],
      "execution_count": 22,
      "outputs": [
        {
          "output_type": "stream",
          "name": "stdout",
          "text": [
            "Everything\n",
            "Everything\n",
            "Everything\n"
          ]
        }
      ]
    }
  ]
}