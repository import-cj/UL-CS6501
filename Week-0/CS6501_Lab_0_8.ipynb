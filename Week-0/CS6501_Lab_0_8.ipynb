{
  "nbformat": 4,
  "nbformat_minor": 0,
  "metadata": {
    "colab": {
      "name": "CS6501_Lab_0_8.ipynb",
      "provenance": []
    },
    "kernelspec": {
      "name": "python3",
      "display_name": "Python 3"
    },
    "language_info": {
      "name": "python"
    }
  },
  "cells": [
    {
      "cell_type": "markdown",
      "metadata": {
        "id": "3Ki5JHGkVubK"
      },
      "source": [
        "<div>\n",
        "<img src=\"https://drive.google.com/uc?export=view&id=1vK33e_EqaHgBHcbRV_m38hx6IkG0blK_\" width=\"350\"/>\n",
        "</div> \n",
        "\n",
        "#**Artificial Intelligence - MSc**\n",
        "CS6501 - MACHINE LEARNING AND APPLICATIONS \n",
        "\n",
        "###Instructor: Enrique Naredo\n",
        "###CS6501_Lab-0.8"
      ]
    },
    {
      "cell_type": "markdown",
      "metadata": {
        "id": "PFvNOA7si2d_"
      },
      "source": [
        "# Numpy"
      ]
    },
    {
      "cell_type": "markdown",
      "metadata": {
        "id": "_JcEGZQDi2eC"
      },
      "source": [
        "\n",
        "This part focuses on Numpy, see <a href=\"https://numpy.org/doc/stable/user/quickstart.html\">numpy quickstart tutorial</a>, which I encourage you to reference throughout the course.\n",
        "\n",
        "\n",
        "Some problems about numpy\n",
        "\n"
      ]
    },
    {
      "cell_type": "markdown",
      "metadata": {
        "id": "GmTAAkiAi2eH"
      },
      "source": [
        "# Problem 11\n",
        "Normalize a 5x5 random matrix\n",
        "\n",
        "Solution:\n",
        ">Z = np.random.random((5,5))\n",
        ">\n",
        ">Z = (Z - np.mean (Z)) / (np.std (Z))\n",
        ">\n",
        ">print(Z)\n"
      ]
    },
    {
      "cell_type": "code",
      "metadata": {
        "id": "24Vmi-yVpgJp",
        "outputId": "89577ed4-8150-4b8e-de51-8e0174544acf",
        "colab": {
          "base_uri": "https://localhost:8080/"
        }
      },
      "source": [
        "\n",
        "import numpy as np\n",
        "Z = np.random.random((5,5))\n",
        "print(Z)\n",
        "Z = (Z - np.mean (Z)) / (np.std (Z))\n",
        "print(Z)\n"
      ],
      "execution_count": 3,
      "outputs": [
        {
          "output_type": "stream",
          "name": "stdout",
          "text": [
            "[[0.79450337 0.08224146 0.11508355 0.14187363 0.19067001]\n",
            " [0.68526298 0.71993467 0.08451014 0.23030767 0.98127032]\n",
            " [0.26117157 0.77094426 0.92671867 0.46243187 0.33992521]\n",
            " [0.99768842 0.78821658 0.2496068  0.80035459 0.12110146]\n",
            " [0.35125903 0.73635392 0.35926612 0.3961895  0.69384672]]\n",
            "[[ 0.99898183 -1.34720197 -1.23902043 -1.15077417 -0.99003936]\n",
            " [ 0.63914504  0.75335326 -1.33972895 -0.8594733   1.61419033]\n",
            " [-0.75780792  0.92137836  1.43449774 -0.09485845 -0.4983942 ]\n",
            " [ 1.6682714   0.9782732  -0.79590215  1.01825568 -1.2191975 ]\n",
            " [-0.46106069  0.80743812 -0.43468544 -0.31306019  0.66741979]]\n"
          ]
        }
      ]
    },
    {
      "cell_type": "markdown",
      "metadata": {
        "id": "Y73QHZ8fi2eH"
      },
      "source": [
        "# Problem 12\n",
        "\n",
        "Multiply a 5x3 matrix by a 3x2 matrix (matrix product).\n",
        "\n",
        "Hint\n",
        "\n",
        "    It is straightforward if you use np.matmul()."
      ]
    },
    {
      "cell_type": "code",
      "metadata": {
        "id": "5g36JPvEUhLi",
        "outputId": "19d6ddaf-5233-4142-911c-c90f70f2b589",
        "colab": {
          "base_uri": "https://localhost:8080/"
        }
      },
      "source": [
        "import numpy as np\n",
        "a=np.arange(2,17).reshape(5,3)\n",
        "b=np.arange(20,26).reshape(3,2)\n",
        "np.matmul(a,b)"
      ],
      "execution_count": 8,
      "outputs": [
        {
          "output_type": "execute_result",
          "data": {
            "text/plain": [
              "array([[ 202,  211],\n",
              "       [ 400,  418],\n",
              "       [ 598,  625],\n",
              "       [ 796,  832],\n",
              "       [ 994, 1039]])"
            ]
          },
          "metadata": {},
          "execution_count": 8
        }
      ]
    },
    {
      "cell_type": "markdown",
      "metadata": {
        "id": "qd0RVtHhi2eI"
      },
      "source": [
        "# Problem 13\n",
        "Given a 1D array, negate in place all elements which are between 3 and 8."
      ]
    },
    {
      "cell_type": "code",
      "metadata": {
        "id": "o7mvFVtkVTdA",
        "outputId": "cb3dd3b7-35e9-46b1-ff13-24c252312aed",
        "colab": {
          "base_uri": "https://localhost:8080/"
        }
      },
      "source": [
        "a=np.arange(10)\n",
        "a[(a>3) & (a<8)]*=-1\n",
        "a"
      ],
      "execution_count": 13,
      "outputs": [
        {
          "output_type": "execute_result",
          "data": {
            "text/plain": [
              "array([ 0,  1,  2,  3, -4, -5, -6, -7,  8,  9])"
            ]
          },
          "metadata": {},
          "execution_count": 13
        }
      ]
    },
    {
      "cell_type": "markdown",
      "metadata": {
        "id": "ATdBweZpi2eI"
      },
      "source": [
        "# Problem 14\n",
        "How to find common values between two arrays?\n"
      ]
    },
    {
      "cell_type": "code",
      "metadata": {
        "id": "b5G6H0o4WSfl",
        "outputId": "7a2a7658-4e13-49cc-e43e-cd894e14679e",
        "colab": {
          "base_uri": "https://localhost:8080/"
        }
      },
      "source": [
        "a=np.arange(12)\n",
        "b=np.arange(8,16)\n",
        "print(np.intersect1d(a,b))"
      ],
      "execution_count": 16,
      "outputs": [
        {
          "output_type": "stream",
          "name": "stdout",
          "text": [
            "[ 8  9 10 11]\n"
          ]
        }
      ]
    },
    {
      "cell_type": "markdown",
      "metadata": {
        "id": "enAmhXegi2eI"
      },
      "source": [
        "# Problem 15\n",
        "How to find the most frequent value in an array? (Use `Z = np.random.randint(0,10,50)` to generate the array)"
      ]
    },
    {
      "cell_type": "code",
      "metadata": {
        "id": "dY8MY9dNWq8o",
        "outputId": "0b503ae0-0288-4bc0-a027-0cb40ffba84d",
        "colab": {
          "base_uri": "https://localhost:8080/"
        }
      },
      "source": [
        "Z = np.random.randint(0,10,50)\n",
        "from scipy import stats\n",
        "print(Z)\n",
        "print((stats.mode(Z))[0][0])\n",
        "print((np.bincount(Z)).argmax())"
      ],
      "execution_count": 27,
      "outputs": [
        {
          "output_type": "stream",
          "name": "stdout",
          "text": [
            "[7 3 8 6 0 3 7 1 8 5 9 5 6 6 7 0 5 6 0 4 2 0 9 3 4 5 2 3 3 7 7 9 7 2 9 0 7\n",
            " 4 0 4 7 3 6 8 6 6 7 1 2 0]\n",
            "7\n",
            "7\n"
          ]
        }
      ]
    }
  ]
}