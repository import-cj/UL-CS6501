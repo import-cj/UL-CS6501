{
  "nbformat": 4,
  "nbformat_minor": 0,
  "metadata": {
    "colab": {
      "name": "CS6501_Lab_0_10.ipynb",
      "provenance": []
    },
    "kernelspec": {
      "name": "python3",
      "display_name": "Python 3"
    },
    "language_info": {
      "name": "python"
    }
  },
  "cells": [
    {
      "cell_type": "markdown",
      "metadata": {
        "id": "LqEjhpcCeUDp"
      },
      "source": [
        "<div>\n",
        "<img src=\"https://drive.google.com/uc?export=view&id=1vK33e_EqaHgBHcbRV_m38hx6IkG0blK_\" width=\"350\"/>\n",
        "</div> \n",
        "\n",
        "#**Artificial Intelligence - MSc**\n",
        "CS6501 - MACHINE LEARNING AND APPLICATIONS \n",
        "\n",
        "###Instructor: Enrique Naredo\n",
        "###CS6501_Lab-0.10"
      ]
    },
    {
      "cell_type": "markdown",
      "metadata": {
        "id": "J0aR26eeLSuG"
      },
      "source": [
        "# Pandas exercise"
      ]
    },
    {
      "cell_type": "code",
      "metadata": {
        "id": "Z4X9nmpgLSuH"
      },
      "source": [
        "import pandas as pd\n",
        "import numpy as np"
      ],
      "execution_count": 2,
      "outputs": []
    },
    {
      "cell_type": "markdown",
      "metadata": {
        "id": "HE0zODpSj4Ho"
      },
      "source": [
        "# Problem 6\n",
        "Compute the minimum, 25th percentile, median, 75th, and maximum of ser.\n",
        "\n",
        "Notes:\n",
        "Do you know what percentile and median are? If no, see  <a href=\"https://en.wikipedia.org/wiki/Percentile\">percentile</a> and <a href=\"https://en.wikipedia.org/wiki/Median\">median</a>."
      ]
    },
    {
      "cell_type": "code",
      "metadata": {
        "id": "xWoDCUv2j4Ho",
        "outputId": "629a461d-e9b5-498c-ce16-307da1019f47",
        "colab": {
          "base_uri": "https://localhost:8080/"
        }
      },
      "source": [
        "# input\n",
        "state = np.random.RandomState(100)\n",
        "ser = pd.Series(state.normal(10, 5, 25))\n",
        "print(\" \".join([str(s) for s in np.percentile(ser,[0,25,75,100])]))\n",
        "print(np.median(ser))\n",
        "print(np.max(ser))\n",
        "print(np.min(ser))"
      ],
      "execution_count": 11,
      "outputs": [
        {
          "output_type": "stream",
          "name": "stdout",
          "text": [
            "1.2511726347265135 7.7098650724868785 13.363604028548306 18.0949083033763\n",
            "10.922593452819715\n",
            "18.0949083033763\n",
            "1.2511726347265135\n"
          ]
        }
      ]
    },
    {
      "cell_type": "markdown",
      "metadata": {
        "id": "S-3m5zssj4Hp"
      },
      "source": [
        "# Problem 7 \n",
        "\n",
        "Calculate the frequency counts of each unique value ser.\n"
      ]
    },
    {
      "cell_type": "code",
      "metadata": {
        "id": "BhMtrkJWj4Hp",
        "outputId": "975bffd7-1abf-486c-c020-242b388a6b94",
        "colab": {
          "base_uri": "https://localhost:8080/"
        }
      },
      "source": [
        "# input\n",
        "idx = np.random.randint(8, size=30)\n",
        "print(idx)\n",
        "ser = pd.Series(np.take(list('abcdefgh'), idx))\n",
        "print(ser)\n",
        "pd.value_counts(ser)"
      ],
      "execution_count": 19,
      "outputs": [
        {
          "output_type": "stream",
          "name": "stdout",
          "text": [
            "[1 6 6 0 4 6 7 5 4 0 5 2 5 5 3 7 6 6 7 0 1 4 6 0 0 5 3 5 6 7]\n",
            "0     b\n",
            "1     g\n",
            "2     g\n",
            "3     a\n",
            "4     e\n",
            "5     g\n",
            "6     h\n",
            "7     f\n",
            "8     e\n",
            "9     a\n",
            "10    f\n",
            "11    c\n",
            "12    f\n",
            "13    f\n",
            "14    d\n",
            "15    h\n",
            "16    g\n",
            "17    g\n",
            "18    h\n",
            "19    a\n",
            "20    b\n",
            "21    e\n",
            "22    g\n",
            "23    a\n",
            "24    a\n",
            "25    f\n",
            "26    d\n",
            "27    f\n",
            "28    g\n",
            "29    h\n",
            "dtype: object\n"
          ]
        },
        {
          "output_type": "execute_result",
          "data": {
            "text/plain": [
              "g    7\n",
              "f    6\n",
              "a    5\n",
              "h    4\n",
              "e    3\n",
              "d    2\n",
              "b    2\n",
              "c    1\n",
              "dtype: int64"
            ]
          },
          "metadata": {},
          "execution_count": 19
        }
      ]
    },
    {
      "cell_type": "markdown",
      "metadata": {
        "id": "qLEADfAkj4Hp"
      },
      "source": [
        "# Problem 8\n",
        "\n",
        "From ser, keep the top 2 most frequent items as it is and replace everything else as ‘Other’.\n"
      ]
    },
    {
      "cell_type": "code",
      "metadata": {
        "id": "Oc17LCW9j4Hp",
        "outputId": "71105934-69a9-4f00-8aff-af28a7d11749",
        "colab": {
          "base_uri": "https://localhost:8080/"
        }
      },
      "source": [
        "# input\n",
        "np.random.RandomState(100)\n",
        "ser = pd.Series(np.random.randint(1, 5, [12]))\n",
        "print(ser)\n",
        "frq = ser.value_counts()\n",
        "print(frq)\n",
        "ser[~ser.isin(frq.index[:2])] = \"Other\"\n",
        "print(ser)\n"
      ],
      "execution_count": 56,
      "outputs": [
        {
          "output_type": "stream",
          "name": "stdout",
          "text": [
            "0     4\n",
            "1     2\n",
            "2     1\n",
            "3     4\n",
            "4     4\n",
            "5     2\n",
            "6     3\n",
            "7     3\n",
            "8     2\n",
            "9     2\n",
            "10    1\n",
            "11    1\n",
            "dtype: int64\n",
            "2    4\n",
            "4    3\n",
            "1    3\n",
            "3    2\n",
            "dtype: int64\n",
            "0         4\n",
            "1         2\n",
            "2     Other\n",
            "3         4\n",
            "4         4\n",
            "5         2\n",
            "6     Other\n",
            "7     Other\n",
            "8         2\n",
            "9         2\n",
            "10    Other\n",
            "11    Other\n",
            "dtype: object\n"
          ]
        }
      ]
    },
    {
      "cell_type": "markdown",
      "metadata": {
        "id": "iPoHzAI_j4Hq"
      },
      "source": [
        "# Problem 9\n",
        "Bin the series ser into 10 equal deciles and replace the values with the bin name.\n"
      ]
    },
    {
      "cell_type": "code",
      "metadata": {
        "id": "zkt_VaIFj4Hq",
        "colab": {
          "base_uri": "https://localhost:8080/"
        },
        "outputId": "8cf68036-e3c0-4a0f-8984-c2657a18933f"
      },
      "source": [
        "# input\n",
        "ser = pd.Series(np.random.random(20))\n",
        "#print(ser)\n",
        "print(ser.values)\n",
        "#Solution  is provided:\n",
        "print(pd.qcut(ser, q=4))\n",
        "np.percentile(ser,[0,25,50,100])\n",
        "# we can also pass labels\n",
        "#pd.qcut(ser, q = [0, .10, .20, .30, .40, .50, .60, .70, .80, .90, 1], labels=['1st', '2nd', '3rd', '4th', '5th', '6th', '7th', '8th', '9th', '10th']).head()"
      ],
      "execution_count": 66,
      "outputs": [
        {
          "output_type": "stream",
          "name": "stdout",
          "text": [
            "[0.31248655 0.63114271 0.1047067  0.95978159 0.35549789 0.5314355\n",
            " 0.73152763 0.1652714  0.71245097 0.49722803 0.74592072 0.23902071\n",
            " 0.90375536 0.91561209 0.38236679 0.42432017 0.26136839 0.33061282\n",
            " 0.93915975 0.0577647 ]\n",
            "0                    (0.3, 0.461]\n",
            "1                  (0.461, 0.735]\n",
            "2     (0.056799999999999996, 0.3]\n",
            "3                   (0.735, 0.96]\n",
            "4                    (0.3, 0.461]\n",
            "5                  (0.461, 0.735]\n",
            "6                  (0.461, 0.735]\n",
            "7     (0.056799999999999996, 0.3]\n",
            "8                  (0.461, 0.735]\n",
            "9                  (0.461, 0.735]\n",
            "10                  (0.735, 0.96]\n",
            "11    (0.056799999999999996, 0.3]\n",
            "12                  (0.735, 0.96]\n",
            "13                  (0.735, 0.96]\n",
            "14                   (0.3, 0.461]\n",
            "15                   (0.3, 0.461]\n",
            "16    (0.056799999999999996, 0.3]\n",
            "17                   (0.3, 0.461]\n",
            "18                  (0.735, 0.96]\n",
            "19    (0.056799999999999996, 0.3]\n",
            "dtype: category\n",
            "Categories (4, interval[float64]): [(0.056799999999999996, 0.3] < (0.3, 0.461] < (0.461, 0.735] < (0.735, 0.96]]\n"
          ]
        },
        {
          "output_type": "execute_result",
          "data": {
            "text/plain": [
              "array([0.0577647 , 0.29970701, 0.4607741 , 0.95978159])"
            ]
          },
          "metadata": {},
          "execution_count": 66
        }
      ]
    },
    {
      "cell_type": "markdown",
      "metadata": {
        "id": "Ep8wPPiPj4Hq"
      },
      "source": [
        "# Problem 10\n",
        "\n",
        "From ser, extract the items at positions in list pos.\n"
      ]
    },
    {
      "cell_type": "code",
      "metadata": {
        "id": "Ed-t-tNnj4Hq",
        "outputId": "e5e5aa7c-7951-4db7-8a50-5ea538f60707",
        "colab": {
          "base_uri": "https://localhost:8080/"
        }
      },
      "source": [
        "# input\n",
        "\n",
        "ser = pd.Series(list('abcdefghijklmnopqrstuvwxyz'))\n",
        "pos = [0, 4, 8, 14, 20]\n",
        "print(ser)\n",
        "print(ser[ser.index[pos]])"
      ],
      "execution_count": 71,
      "outputs": [
        {
          "output_type": "stream",
          "name": "stdout",
          "text": [
            "0     a\n",
            "1     b\n",
            "2     c\n",
            "3     d\n",
            "4     e\n",
            "5     f\n",
            "6     g\n",
            "7     h\n",
            "8     i\n",
            "9     j\n",
            "10    k\n",
            "11    l\n",
            "12    m\n",
            "13    n\n",
            "14    o\n",
            "15    p\n",
            "16    q\n",
            "17    r\n",
            "18    s\n",
            "19    t\n",
            "20    u\n",
            "21    v\n",
            "22    w\n",
            "23    x\n",
            "24    y\n",
            "25    z\n",
            "dtype: object\n",
            "0     a\n",
            "4     e\n",
            "8     i\n",
            "14    o\n",
            "20    u\n",
            "dtype: object\n"
          ]
        }
      ]
    }
  ]
}