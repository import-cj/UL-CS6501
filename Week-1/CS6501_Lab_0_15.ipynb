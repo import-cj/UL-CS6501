{
  "nbformat": 4,
  "nbformat_minor": 0,
  "metadata": {
    "colab": {
      "name": "CS6501_Lab-0_15.ipynb",
      "provenance": [],
      "collapsed_sections": []
    },
    "kernelspec": {
      "name": "python3",
      "display_name": "Python 3"
    },
    "language_info": {
      "name": "python"
    }
  },
  "cells": [
    {
      "cell_type": "markdown",
      "metadata": {
        "id": "xDKIjqUaI69h"
      },
      "source": [
        "<div>\n",
        "<img src=\"https://drive.google.com/uc?export=view&id=1vK33e_EqaHgBHcbRV_m38hx6IkG0blK_\" width=\"350\"/>\n",
        "</div> \n",
        "\n",
        "#**Artificial Intelligence - MSc**\n",
        "CS6501 - MACHINE LEARNING AND APPLICATIONS \n",
        "\n",
        "###Instructor: Enrique Naredo\n",
        "###CS6501_Lab-0.15_sol\n",
        "\n",
        "#**Extra Numpy problems**"
      ]
    },
    {
      "cell_type": "code",
      "metadata": {
        "id": "2HHCJ01DQMji"
      },
      "source": [
        "import numpy as np"
      ],
      "execution_count": 1,
      "outputs": []
    },
    {
      "cell_type": "markdown",
      "metadata": {
        "id": "gRbds0ey3HEP"
      },
      "source": [
        "## Problem 21\n",
        "\n",
        "Import the [iris dataset](https://archive.ics.uci.edu/ml/machine-learning-databases/iris/iris.data) and compute the [softmax score](https://en.wikipedia.org/wiki/Softmax_function) of `sepallength`."
      ]
    },
    {
      "cell_type": "code",
      "metadata": {
        "id": "kVjUvw70kmrf",
        "outputId": "68cab055-f62e-4692-97d6-6437c2d8b0c5",
        "colab": {
          "base_uri": "https://localhost:8080/"
        }
      },
      "source": [
        "url = 'https://archive.ics.uci.edu/ml/machine-learning-databases/iris/iris.data'\n",
        "iris = np.genfromtxt(url, delimiter=',', dtype='object')\n",
        "sepallength = np.array([float(row[0]) for row in iris])\n",
        "def softmax(x):\n",
        "    e_x = np.exp(x - np.max(x))\n",
        "    return e_x / e_x.sum(axis=0)\n",
        "\n",
        "print(softmax(sepallength))"
      ],
      "execution_count": 2,
      "outputs": [
        {
          "output_type": "stream",
          "name": "stdout",
          "text": [
            "[0.00221959 0.00181724 0.00148783 0.00134625 0.00200836 0.00299613\n",
            " 0.00134625 0.00200836 0.00110221 0.00181724 0.00299613 0.00164431\n",
            " 0.00164431 0.00099732 0.0044697  0.00404435 0.00299613 0.00221959\n",
            " 0.00404435 0.00221959 0.00299613 0.00221959 0.00134625 0.00221959\n",
            " 0.00164431 0.00200836 0.00200836 0.00245302 0.00245302 0.00148783\n",
            " 0.00164431 0.00299613 0.00245302 0.00331123 0.00181724 0.00200836\n",
            " 0.00331123 0.00181724 0.00110221 0.00221959 0.00200836 0.00121813\n",
            " 0.00110221 0.00200836 0.00221959 0.00164431 0.00221959 0.00134625\n",
            " 0.00271101 0.00200836 0.01483991 0.00814432 0.01342771 0.00331123\n",
            " 0.00900086 0.00404435 0.00736928 0.00181724 0.00994749 0.00245302\n",
            " 0.00200836 0.00493978 0.0054593  0.00603346 0.00365948 0.01099368\n",
            " 0.00365948 0.0044697  0.006668   0.00365948 0.00493978 0.00603346\n",
            " 0.00736928 0.00603346 0.00814432 0.00994749 0.01214989 0.01099368\n",
            " 0.0054593  0.00404435 0.00331123 0.00331123 0.0044697  0.0054593\n",
            " 0.00299613 0.0054593  0.01099368 0.00736928 0.00365948 0.00331123\n",
            " 0.00331123 0.00603346 0.0044697  0.00200836 0.00365948 0.00404435\n",
            " 0.00404435 0.006668   0.00221959 0.00404435 0.00736928 0.0044697\n",
            " 0.01640064 0.00736928 0.00900086 0.02704008 0.00181724 0.02003179\n",
            " 0.01099368 0.01812551 0.00900086 0.00814432 0.01214989 0.00404435\n",
            " 0.0044697  0.00814432 0.00900086 0.02988391 0.02988391 0.0054593\n",
            " 0.01342771 0.00365948 0.02988391 0.00736928 0.01099368 0.01812551\n",
            " 0.006668   0.00603346 0.00814432 0.01812551 0.02213855 0.0365003\n",
            " 0.00814432 0.00736928 0.00603346 0.02988391 0.00736928 0.00814432\n",
            " 0.0054593  0.01342771 0.01099368 0.01342771 0.0044697  0.01214989\n",
            " 0.01099368 0.01099368 0.00736928 0.00900086 0.006668   0.00493978]\n"
          ]
        }
      ]
    },
    {
      "cell_type": "markdown",
      "metadata": {
        "id": "gIIIT_FBJbuE"
      },
      "source": [
        "## Problem 22\n",
        "\n",
        "Replace all ocurrences of `nan` with 0 in numpy array.\n",
        "\n",
        "Input:\n",
        "\n",
        "`url = 'https://archive.ics.uci.edu/ml/machine-learning-databases/iris/iris.data'`\n",
        "\n",
        "`iris_2d = np.genfromtxt(url, delimiter=',', dtype='float', usecols=[0,1,2,3])`\n",
        "\n",
        "`iris_2d[np.random.randint(150, size=20), np.random.randint(4, size=20)] = np.nan`"
      ]
    },
    {
      "cell_type": "code",
      "metadata": {
        "id": "b4yObcMgnl7I",
        "outputId": "ae043424-e3d5-46f9-f03d-f4e055c18615",
        "colab": {
          "base_uri": "https://localhost:8080/"
        }
      },
      "source": [
        "url = 'https://archive.ics.uci.edu/ml/machine-learning-databases/iris/iris.data'\n",
        "\n",
        "iris_2d = np.genfromtxt(url, delimiter=',', dtype='float', usecols=[0,1,2,3])\n",
        "\n",
        "iris_2d[np.random.randint(150, size=20), np.random.randint(4, size=20)] = np.nan\n",
        "print(iris_2d)\n",
        "print(\"\\n\\n\")\n",
        "iris_2d[np.isnan(iris_2d)] = 0\n",
        "print(iris_2d)"
      ],
      "execution_count": 5,
      "outputs": [
        {
          "output_type": "stream",
          "name": "stdout",
          "text": [
            "[[5.1 3.5 1.4 0.2]\n",
            " [4.9 3.  1.4 0.2]\n",
            " [4.7 3.2 1.3 0.2]\n",
            " [4.6 3.1 1.5 0.2]\n",
            " [5.  3.6 1.4 0.2]\n",
            " [5.4 nan 1.7 0.4]\n",
            " [4.6 3.4 1.4 0.3]\n",
            " [5.  3.4 1.5 0.2]\n",
            " [4.4 nan 1.4 0.2]\n",
            " [4.9 3.1 1.5 0.1]\n",
            " [5.4 3.7 1.5 0.2]\n",
            " [4.8 3.4 1.6 0.2]\n",
            " [4.8 3.  1.4 0.1]\n",
            " [4.3 3.  1.1 0.1]\n",
            " [5.8 4.  1.2 0.2]\n",
            " [5.7 4.4 1.5 0.4]\n",
            " [5.4 3.9 1.3 0.4]\n",
            " [5.1 3.5 1.4 0.3]\n",
            " [5.7 3.8 1.7 0.3]\n",
            " [5.1 3.8 1.5 nan]\n",
            " [nan 3.4 1.7 0.2]\n",
            " [5.1 3.7 1.5 0.4]\n",
            " [4.6 3.6 1.  0.2]\n",
            " [5.1 3.3 1.7 nan]\n",
            " [4.8 3.4 1.9 0.2]\n",
            " [5.  3.  1.6 0.2]\n",
            " [5.  3.4 1.6 0.4]\n",
            " [5.2 3.5 1.5 0.2]\n",
            " [5.2 3.4 1.4 0.2]\n",
            " [4.7 3.2 1.6 0.2]\n",
            " [4.8 nan 1.6 0.2]\n",
            " [5.4 3.4 1.5 0.4]\n",
            " [5.2 4.1 1.5 nan]\n",
            " [5.5 4.2 1.4 0.2]\n",
            " [4.9 3.1 1.5 0.1]\n",
            " [5.  3.2 1.2 0.2]\n",
            " [5.5 3.5 1.3 0.2]\n",
            " [4.9 3.1 1.5 0.1]\n",
            " [4.4 3.  1.3 0.2]\n",
            " [5.1 3.4 1.5 0.2]\n",
            " [5.  3.5 1.3 0.3]\n",
            " [4.5 2.3 1.3 0.3]\n",
            " [4.4 3.2 1.3 0.2]\n",
            " [5.  3.5 1.6 0.6]\n",
            " [5.1 3.8 1.9 0.4]\n",
            " [4.8 3.  1.4 0.3]\n",
            " [5.1 3.8 1.6 0.2]\n",
            " [4.6 3.2 1.4 0.2]\n",
            " [5.3 3.7 1.5 0.2]\n",
            " [5.  3.3 1.4 0.2]\n",
            " [7.  3.2 4.7 1.4]\n",
            " [6.4 3.2 4.5 1.5]\n",
            " [6.9 3.1 4.9 1.5]\n",
            " [5.5 2.3 4.  1.3]\n",
            " [6.5 2.8 4.6 1.5]\n",
            " [5.7 2.8 4.5 1.3]\n",
            " [6.3 3.3 4.7 1.6]\n",
            " [4.9 2.4 3.3 1. ]\n",
            " [6.6 2.9 4.6 1.3]\n",
            " [5.2 2.7 3.9 1.4]\n",
            " [5.  nan 3.5 1. ]\n",
            " [5.9 3.  4.2 1.5]\n",
            " [6.  2.2 4.  1. ]\n",
            " [6.1 2.9 4.7 1.4]\n",
            " [5.6 2.9 3.6 1.3]\n",
            " [6.7 3.1 4.4 1.4]\n",
            " [5.6 3.  4.5 1.5]\n",
            " [5.8 2.7 nan 1. ]\n",
            " [6.2 2.2 4.5 1.5]\n",
            " [5.6 2.5 3.9 1.1]\n",
            " [5.9 3.2 4.8 1.8]\n",
            " [nan 2.8 4.  1.3]\n",
            " [6.3 2.5 4.9 1.5]\n",
            " [6.1 2.8 4.7 1.2]\n",
            " [6.4 2.9 4.3 1.3]\n",
            " [6.6 3.  4.4 1.4]\n",
            " [nan 2.8 4.8 1.4]\n",
            " [6.7 nan 5.  1.7]\n",
            " [6.  2.9 4.5 1.5]\n",
            " [5.7 2.6 3.5 1. ]\n",
            " [5.5 2.4 3.8 1.1]\n",
            " [5.5 2.4 3.7 1. ]\n",
            " [5.8 2.7 3.9 1.2]\n",
            " [6.  2.7 5.1 1.6]\n",
            " [nan 3.  4.5 1.5]\n",
            " [6.  3.4 4.5 1.6]\n",
            " [6.7 3.1 4.7 1.5]\n",
            " [nan 2.3 4.4 1.3]\n",
            " [5.6 3.  4.1 1.3]\n",
            " [5.5 2.5 4.  1.3]\n",
            " [5.5 2.6 4.4 1.2]\n",
            " [6.1 3.  4.6 1.4]\n",
            " [5.8 2.6 4.  1.2]\n",
            " [5.  2.3 3.3 1. ]\n",
            " [5.6 2.7 4.2 1.3]\n",
            " [5.7 3.  4.2 1.2]\n",
            " [5.7 2.9 4.2 1.3]\n",
            " [6.2 2.9 4.3 1.3]\n",
            " [5.1 2.5 3.  1.1]\n",
            " [5.7 2.8 4.1 1.3]\n",
            " [6.3 3.3 6.  2.5]\n",
            " [5.8 2.7 5.1 1.9]\n",
            " [7.1 3.  5.9 2.1]\n",
            " [6.3 2.9 5.6 1.8]\n",
            " [6.5 3.  5.8 2.2]\n",
            " [7.6 3.  6.6 2.1]\n",
            " [4.9 2.5 4.5 1.7]\n",
            " [7.3 2.9 6.3 1.8]\n",
            " [6.7 2.5 5.8 nan]\n",
            " [nan 3.6 6.1 2.5]\n",
            " [6.5 nan 5.1 2. ]\n",
            " [6.4 2.7 5.3 1.9]\n",
            " [6.8 3.  5.5 2.1]\n",
            " [5.7 2.5 5.  2. ]\n",
            " [5.8 2.8 5.1 2.4]\n",
            " [6.4 3.2 5.3 2.3]\n",
            " [6.5 3.  5.5 1.8]\n",
            " [7.7 3.8 6.7 2.2]\n",
            " [7.7 2.6 6.9 2.3]\n",
            " [6.  2.2 5.  1.5]\n",
            " [6.9 3.2 5.7 2.3]\n",
            " [5.6 2.8 4.9 2. ]\n",
            " [7.7 2.8 6.7 2. ]\n",
            " [6.3 2.7 4.9 1.8]\n",
            " [6.7 3.3 5.7 2.1]\n",
            " [7.2 3.2 6.  1.8]\n",
            " [6.2 2.8 4.8 1.8]\n",
            " [6.1 3.  4.9 1.8]\n",
            " [6.4 2.8 5.6 2.1]\n",
            " [7.2 3.  5.8 1.6]\n",
            " [7.4 2.8 6.1 1.9]\n",
            " [7.9 3.8 6.4 2. ]\n",
            " [6.4 2.8 5.6 2.2]\n",
            " [6.3 2.8 5.1 1.5]\n",
            " [6.1 2.6 5.6 1.4]\n",
            " [7.7 3.  6.1 2.3]\n",
            " [6.3 3.4 5.6 2.4]\n",
            " [6.4 3.1 5.5 1.8]\n",
            " [6.  3.  4.8 1.8]\n",
            " [6.9 3.1 5.4 nan]\n",
            " [6.7 3.1 5.6 2.4]\n",
            " [6.9 3.1 5.1 nan]\n",
            " [5.8 2.7 5.1 1.9]\n",
            " [6.8 3.2 5.9 2.3]\n",
            " [6.7 3.3 5.7 2.5]\n",
            " [6.7 3.  5.2 2.3]\n",
            " [nan 2.5 5.  1.9]\n",
            " [6.5 3.  5.2 2. ]\n",
            " [6.2 3.4 5.4 2.3]\n",
            " [5.9 3.  5.1 1.8]]\n",
            "\n",
            "\n",
            "\n",
            "[[5.1 3.5 1.4 0.2]\n",
            " [4.9 3.  1.4 0.2]\n",
            " [4.7 3.2 1.3 0.2]\n",
            " [4.6 3.1 1.5 0.2]\n",
            " [5.  3.6 1.4 0.2]\n",
            " [5.4 0.  1.7 0.4]\n",
            " [4.6 3.4 1.4 0.3]\n",
            " [5.  3.4 1.5 0.2]\n",
            " [4.4 0.  1.4 0.2]\n",
            " [4.9 3.1 1.5 0.1]\n",
            " [5.4 3.7 1.5 0.2]\n",
            " [4.8 3.4 1.6 0.2]\n",
            " [4.8 3.  1.4 0.1]\n",
            " [4.3 3.  1.1 0.1]\n",
            " [5.8 4.  1.2 0.2]\n",
            " [5.7 4.4 1.5 0.4]\n",
            " [5.4 3.9 1.3 0.4]\n",
            " [5.1 3.5 1.4 0.3]\n",
            " [5.7 3.8 1.7 0.3]\n",
            " [5.1 3.8 1.5 0. ]\n",
            " [0.  3.4 1.7 0.2]\n",
            " [5.1 3.7 1.5 0.4]\n",
            " [4.6 3.6 1.  0.2]\n",
            " [5.1 3.3 1.7 0. ]\n",
            " [4.8 3.4 1.9 0.2]\n",
            " [5.  3.  1.6 0.2]\n",
            " [5.  3.4 1.6 0.4]\n",
            " [5.2 3.5 1.5 0.2]\n",
            " [5.2 3.4 1.4 0.2]\n",
            " [4.7 3.2 1.6 0.2]\n",
            " [4.8 0.  1.6 0.2]\n",
            " [5.4 3.4 1.5 0.4]\n",
            " [5.2 4.1 1.5 0. ]\n",
            " [5.5 4.2 1.4 0.2]\n",
            " [4.9 3.1 1.5 0.1]\n",
            " [5.  3.2 1.2 0.2]\n",
            " [5.5 3.5 1.3 0.2]\n",
            " [4.9 3.1 1.5 0.1]\n",
            " [4.4 3.  1.3 0.2]\n",
            " [5.1 3.4 1.5 0.2]\n",
            " [5.  3.5 1.3 0.3]\n",
            " [4.5 2.3 1.3 0.3]\n",
            " [4.4 3.2 1.3 0.2]\n",
            " [5.  3.5 1.6 0.6]\n",
            " [5.1 3.8 1.9 0.4]\n",
            " [4.8 3.  1.4 0.3]\n",
            " [5.1 3.8 1.6 0.2]\n",
            " [4.6 3.2 1.4 0.2]\n",
            " [5.3 3.7 1.5 0.2]\n",
            " [5.  3.3 1.4 0.2]\n",
            " [7.  3.2 4.7 1.4]\n",
            " [6.4 3.2 4.5 1.5]\n",
            " [6.9 3.1 4.9 1.5]\n",
            " [5.5 2.3 4.  1.3]\n",
            " [6.5 2.8 4.6 1.5]\n",
            " [5.7 2.8 4.5 1.3]\n",
            " [6.3 3.3 4.7 1.6]\n",
            " [4.9 2.4 3.3 1. ]\n",
            " [6.6 2.9 4.6 1.3]\n",
            " [5.2 2.7 3.9 1.4]\n",
            " [5.  0.  3.5 1. ]\n",
            " [5.9 3.  4.2 1.5]\n",
            " [6.  2.2 4.  1. ]\n",
            " [6.1 2.9 4.7 1.4]\n",
            " [5.6 2.9 3.6 1.3]\n",
            " [6.7 3.1 4.4 1.4]\n",
            " [5.6 3.  4.5 1.5]\n",
            " [5.8 2.7 0.  1. ]\n",
            " [6.2 2.2 4.5 1.5]\n",
            " [5.6 2.5 3.9 1.1]\n",
            " [5.9 3.2 4.8 1.8]\n",
            " [0.  2.8 4.  1.3]\n",
            " [6.3 2.5 4.9 1.5]\n",
            " [6.1 2.8 4.7 1.2]\n",
            " [6.4 2.9 4.3 1.3]\n",
            " [6.6 3.  4.4 1.4]\n",
            " [0.  2.8 4.8 1.4]\n",
            " [6.7 0.  5.  1.7]\n",
            " [6.  2.9 4.5 1.5]\n",
            " [5.7 2.6 3.5 1. ]\n",
            " [5.5 2.4 3.8 1.1]\n",
            " [5.5 2.4 3.7 1. ]\n",
            " [5.8 2.7 3.9 1.2]\n",
            " [6.  2.7 5.1 1.6]\n",
            " [0.  3.  4.5 1.5]\n",
            " [6.  3.4 4.5 1.6]\n",
            " [6.7 3.1 4.7 1.5]\n",
            " [0.  2.3 4.4 1.3]\n",
            " [5.6 3.  4.1 1.3]\n",
            " [5.5 2.5 4.  1.3]\n",
            " [5.5 2.6 4.4 1.2]\n",
            " [6.1 3.  4.6 1.4]\n",
            " [5.8 2.6 4.  1.2]\n",
            " [5.  2.3 3.3 1. ]\n",
            " [5.6 2.7 4.2 1.3]\n",
            " [5.7 3.  4.2 1.2]\n",
            " [5.7 2.9 4.2 1.3]\n",
            " [6.2 2.9 4.3 1.3]\n",
            " [5.1 2.5 3.  1.1]\n",
            " [5.7 2.8 4.1 1.3]\n",
            " [6.3 3.3 6.  2.5]\n",
            " [5.8 2.7 5.1 1.9]\n",
            " [7.1 3.  5.9 2.1]\n",
            " [6.3 2.9 5.6 1.8]\n",
            " [6.5 3.  5.8 2.2]\n",
            " [7.6 3.  6.6 2.1]\n",
            " [4.9 2.5 4.5 1.7]\n",
            " [7.3 2.9 6.3 1.8]\n",
            " [6.7 2.5 5.8 0. ]\n",
            " [0.  3.6 6.1 2.5]\n",
            " [6.5 0.  5.1 2. ]\n",
            " [6.4 2.7 5.3 1.9]\n",
            " [6.8 3.  5.5 2.1]\n",
            " [5.7 2.5 5.  2. ]\n",
            " [5.8 2.8 5.1 2.4]\n",
            " [6.4 3.2 5.3 2.3]\n",
            " [6.5 3.  5.5 1.8]\n",
            " [7.7 3.8 6.7 2.2]\n",
            " [7.7 2.6 6.9 2.3]\n",
            " [6.  2.2 5.  1.5]\n",
            " [6.9 3.2 5.7 2.3]\n",
            " [5.6 2.8 4.9 2. ]\n",
            " [7.7 2.8 6.7 2. ]\n",
            " [6.3 2.7 4.9 1.8]\n",
            " [6.7 3.3 5.7 2.1]\n",
            " [7.2 3.2 6.  1.8]\n",
            " [6.2 2.8 4.8 1.8]\n",
            " [6.1 3.  4.9 1.8]\n",
            " [6.4 2.8 5.6 2.1]\n",
            " [7.2 3.  5.8 1.6]\n",
            " [7.4 2.8 6.1 1.9]\n",
            " [7.9 3.8 6.4 2. ]\n",
            " [6.4 2.8 5.6 2.2]\n",
            " [6.3 2.8 5.1 1.5]\n",
            " [6.1 2.6 5.6 1.4]\n",
            " [7.7 3.  6.1 2.3]\n",
            " [6.3 3.4 5.6 2.4]\n",
            " [6.4 3.1 5.5 1.8]\n",
            " [6.  3.  4.8 1.8]\n",
            " [6.9 3.1 5.4 0. ]\n",
            " [6.7 3.1 5.6 2.4]\n",
            " [6.9 3.1 5.1 0. ]\n",
            " [5.8 2.7 5.1 1.9]\n",
            " [6.8 3.2 5.9 2.3]\n",
            " [6.7 3.3 5.7 2.5]\n",
            " [6.7 3.  5.2 2.3]\n",
            " [0.  2.5 5.  1.9]\n",
            " [6.5 3.  5.2 2. ]\n",
            " [6.2 3.4 5.4 2.3]\n",
            " [5.9 3.  5.1 1.8]]\n"
          ]
        }
      ]
    },
    {
      "cell_type": "markdown",
      "metadata": {
        "id": "pPdzBnVz3QzM"
      },
      "source": [
        "## Problem 23\n",
        "\n",
        "Find the unique values and the count of unique values in iris's `species`.\n",
        "\n",
        "Input:\n",
        "\n",
        "`url = 'https://archive.ics.uci.edu/ml/machine-learning-databases/iris/iris.data'`\n",
        "\n",
        "`iris = np.genfromtxt(url, delimiter=',', dtype='object')`\n",
        "\n",
        "`names = ('sepallength', 'sepalwidth', 'petallength', 'petalwidth', 'species')`"
      ]
    },
    {
      "cell_type": "code",
      "metadata": {
        "id": "8amLgq2nouIz",
        "outputId": "778ee5c5-0d75-4535-9ac5-59a12466529f",
        "colab": {
          "base_uri": "https://localhost:8080/"
        }
      },
      "source": [
        "url = 'https://archive.ics.uci.edu/ml/machine-learning-databases/iris/iris.data'\n",
        "iris = np.genfromtxt(url, delimiter=',', dtype='object', usecols=[4])\n",
        "names = ('sepallength', 'sepalwidth', 'petallength', 'petalwidth', 'species')\n",
        "print(np.unique(iris))"
      ],
      "execution_count": 6,
      "outputs": [
        {
          "output_type": "stream",
          "name": "stdout",
          "text": [
            "[b'Iris-setosa' b'Iris-versicolor' b'Iris-virginica']\n"
          ]
        }
      ]
    },
    {
      "cell_type": "markdown",
      "metadata": {
        "id": "YQtmklEc3Uz8"
      },
      "source": [
        "## Problem 24\n",
        "\n",
        "Randomly sample iris's `species` such that `setose` is twice the number of `versicolor` and `virginica`.\n",
        "\n",
        "Input:\n",
        "\n",
        "`url = 'https://archive.ics.uci.edu/ml/machine-learning-databases/iris/iris.data'`\n",
        "\n",
        "`iris = np.genfromtxt(url, delimiter=',', dtype='object')`"
      ]
    },
    {
      "cell_type": "code",
      "metadata": {
        "id": "FgDPHBmFpmfy",
        "outputId": "0b1112f9-6c90-4219-fde5-d114504b2007",
        "colab": {
          "base_uri": "https://localhost:8080/"
        }
      },
      "source": [
        "np.random.seed(100)\n",
        "a = np.array(['Iris-setosa', 'Iris-versicolor', 'Iris-virginica'])\n",
        "print\n",
        "print(np.random.choice(a, 150, p=[0.5, 0.25, 0.25]))"
      ],
      "execution_count": 7,
      "outputs": [
        {
          "output_type": "stream",
          "name": "stdout",
          "text": [
            "['Iris-versicolor' 'Iris-setosa' 'Iris-setosa' 'Iris-virginica'\n",
            " 'Iris-setosa' 'Iris-setosa' 'Iris-versicolor' 'Iris-virginica'\n",
            " 'Iris-setosa' 'Iris-versicolor' 'Iris-virginica' 'Iris-setosa'\n",
            " 'Iris-setosa' 'Iris-setosa' 'Iris-setosa' 'Iris-virginica'\n",
            " 'Iris-virginica' 'Iris-setosa' 'Iris-virginica' 'Iris-setosa'\n",
            " 'Iris-setosa' 'Iris-virginica' 'Iris-virginica' 'Iris-setosa'\n",
            " 'Iris-setosa' 'Iris-setosa' 'Iris-setosa' 'Iris-setosa' 'Iris-virginica'\n",
            " 'Iris-setosa' 'Iris-versicolor' 'Iris-versicolor' 'Iris-setosa'\n",
            " 'Iris-setosa' 'Iris-setosa' 'Iris-virginica' 'Iris-virginica'\n",
            " 'Iris-setosa' 'Iris-virginica' 'Iris-versicolor' 'Iris-versicolor'\n",
            " 'Iris-versicolor' 'Iris-versicolor' 'Iris-setosa' 'Iris-setosa'\n",
            " 'Iris-versicolor' 'Iris-virginica' 'Iris-setosa' 'Iris-setosa'\n",
            " 'Iris-virginica' 'Iris-virginica' 'Iris-virginica' 'Iris-setosa'\n",
            " 'Iris-versicolor' 'Iris-setosa' 'Iris-setosa' 'Iris-setosa' 'Iris-setosa'\n",
            " 'Iris-setosa' 'Iris-versicolor' 'Iris-setosa' 'Iris-versicolor'\n",
            " 'Iris-versicolor' 'Iris-setosa' 'Iris-virginica' 'Iris-virginica'\n",
            " 'Iris-versicolor' 'Iris-setosa' 'Iris-setosa' 'Iris-setosa' 'Iris-setosa'\n",
            " 'Iris-setosa' 'Iris-setosa' 'Iris-virginica' 'Iris-virginica'\n",
            " 'Iris-versicolor' 'Iris-versicolor' 'Iris-setosa' 'Iris-setosa'\n",
            " 'Iris-setosa' 'Iris-versicolor' 'Iris-setosa' 'Iris-versicolor'\n",
            " 'Iris-virginica' 'Iris-setosa' 'Iris-setosa' 'Iris-virginica'\n",
            " 'Iris-virginica' 'Iris-setosa' 'Iris-versicolor' 'Iris-versicolor'\n",
            " 'Iris-setosa' 'Iris-setosa' 'Iris-setosa' 'Iris-setosa' 'Iris-versicolor'\n",
            " 'Iris-setosa' 'Iris-versicolor' 'Iris-setosa' 'Iris-versicolor'\n",
            " 'Iris-virginica' 'Iris-virginica' 'Iris-versicolor' 'Iris-setosa'\n",
            " 'Iris-versicolor' 'Iris-virginica' 'Iris-versicolor' 'Iris-virginica'\n",
            " 'Iris-virginica' 'Iris-setosa' 'Iris-setosa' 'Iris-setosa'\n",
            " 'Iris-virginica' 'Iris-virginica' 'Iris-setosa' 'Iris-setosa'\n",
            " 'Iris-versicolor' 'Iris-setosa' 'Iris-setosa' 'Iris-versicolor'\n",
            " 'Iris-versicolor' 'Iris-versicolor' 'Iris-versicolor' 'Iris-setosa'\n",
            " 'Iris-setosa' 'Iris-setosa' 'Iris-setosa' 'Iris-setosa' 'Iris-versicolor'\n",
            " 'Iris-setosa' 'Iris-setosa' 'Iris-setosa' 'Iris-virginica' 'Iris-setosa'\n",
            " 'Iris-setosa' 'Iris-setosa' 'Iris-versicolor' 'Iris-virginica'\n",
            " 'Iris-virginica' 'Iris-virginica' 'Iris-setosa' 'Iris-versicolor'\n",
            " 'Iris-versicolor' 'Iris-setosa' 'Iris-virginica' 'Iris-setosa'\n",
            " 'Iris-virginica' 'Iris-versicolor' 'Iris-setosa' 'Iris-setosa']\n"
          ]
        }
      ]
    },
    {
      "cell_type": "markdown",
      "metadata": {
        "id": "m5Qo4J-Z3VuE"
      },
      "source": [
        "## Problem 25\n",
        "\n",
        "Find the value of second longest petallength of species setosa.\n",
        "\n",
        "Input:\n",
        "\n",
        "`url = 'https://archive.ics.uci.edu/ml/machine-learning-databases/iris/iris.data'`\n",
        "\n",
        "`iris = np.genfromtxt(url, delimiter=',', dtype='object')`"
      ]
    },
    {
      "cell_type": "code",
      "metadata": {
        "id": "jaN4C4UNrdNQ",
        "outputId": "c607da3c-ee4f-47ad-ca71-40f8c4580c11",
        "colab": {
          "base_uri": "https://localhost:8080/"
        }
      },
      "source": [
        "url = 'https://archive.ics.uci.edu/ml/machine-learning-databases/iris/iris.data'\n",
        "iris = np.genfromtxt(url, delimiter=',', dtype='object')\n",
        "m1 = m2 = iris[0,2] \n",
        "for i in iris[:,2]:\n",
        "  if i > m1:\n",
        "    m2 = m1\n",
        "    m1 = i\n",
        "print(m1)\n",
        "print(m2)\n",
        "  "
      ],
      "execution_count": 10,
      "outputs": [
        {
          "output_type": "stream",
          "name": "stdout",
          "text": [
            "b'6.9'\n",
            "b'6.7'\n"
          ]
        }
      ]
    },
    {
      "cell_type": "markdown",
      "metadata": {
        "id": "5S17OHj63Wc1"
      },
      "source": [
        "## Problem 26\n",
        "\n",
        "Sort the iris dataset based on `sepallength` column.\n",
        "\n",
        "Input:\n",
        "\n",
        "`url = 'https://archive.ics.uci.edu/ml/machine-learning-databases/iris/iris.data'`\n",
        "\n",
        "`iris = np.genfromtxt(url, delimiter=',', dtype='object')`\n",
        "\n",
        "`names = ('sepallength', 'sepalwidth', 'petallength', 'petalwidth', 'species')`"
      ]
    },
    {
      "cell_type": "code",
      "metadata": {
        "id": "vM-hJ3yX5_S-",
        "outputId": "4d6e08f4-e1bc-4509-c968-6fe2a9c9f364",
        "colab": {
          "base_uri": "https://localhost:8080/"
        }
      },
      "source": [
        "iris[iris[:,0].argsort()]"
      ],
      "execution_count": 12,
      "outputs": [
        {
          "output_type": "execute_result",
          "data": {
            "text/plain": [
              "array([[b'4.3', b'3.0', b'1.1', b'0.1', b'Iris-setosa'],\n",
              "       [b'4.4', b'3.2', b'1.3', b'0.2', b'Iris-setosa'],\n",
              "       [b'4.4', b'3.0', b'1.3', b'0.2', b'Iris-setosa'],\n",
              "       [b'4.4', b'2.9', b'1.4', b'0.2', b'Iris-setosa'],\n",
              "       [b'4.5', b'2.3', b'1.3', b'0.3', b'Iris-setosa'],\n",
              "       [b'4.6', b'3.6', b'1.0', b'0.2', b'Iris-setosa'],\n",
              "       [b'4.6', b'3.1', b'1.5', b'0.2', b'Iris-setosa'],\n",
              "       [b'4.6', b'3.4', b'1.4', b'0.3', b'Iris-setosa'],\n",
              "       [b'4.6', b'3.2', b'1.4', b'0.2', b'Iris-setosa'],\n",
              "       [b'4.7', b'3.2', b'1.3', b'0.2', b'Iris-setosa'],\n",
              "       [b'4.7', b'3.2', b'1.6', b'0.2', b'Iris-setosa'],\n",
              "       [b'4.8', b'3.0', b'1.4', b'0.1', b'Iris-setosa'],\n",
              "       [b'4.8', b'3.0', b'1.4', b'0.3', b'Iris-setosa'],\n",
              "       [b'4.8', b'3.4', b'1.9', b'0.2', b'Iris-setosa'],\n",
              "       [b'4.8', b'3.4', b'1.6', b'0.2', b'Iris-setosa'],\n",
              "       [b'4.8', b'3.1', b'1.6', b'0.2', b'Iris-setosa'],\n",
              "       [b'4.9', b'2.4', b'3.3', b'1.0', b'Iris-versicolor'],\n",
              "       [b'4.9', b'2.5', b'4.5', b'1.7', b'Iris-virginica'],\n",
              "       [b'4.9', b'3.1', b'1.5', b'0.1', b'Iris-setosa'],\n",
              "       [b'4.9', b'3.1', b'1.5', b'0.1', b'Iris-setosa'],\n",
              "       [b'4.9', b'3.1', b'1.5', b'0.1', b'Iris-setosa'],\n",
              "       [b'4.9', b'3.0', b'1.4', b'0.2', b'Iris-setosa'],\n",
              "       [b'5.0', b'3.5', b'1.3', b'0.3', b'Iris-setosa'],\n",
              "       [b'5.0', b'3.4', b'1.6', b'0.4', b'Iris-setosa'],\n",
              "       [b'5.0', b'3.3', b'1.4', b'0.2', b'Iris-setosa'],\n",
              "       [b'5.0', b'3.2', b'1.2', b'0.2', b'Iris-setosa'],\n",
              "       [b'5.0', b'3.5', b'1.6', b'0.6', b'Iris-setosa'],\n",
              "       [b'5.0', b'2.0', b'3.5', b'1.0', b'Iris-versicolor'],\n",
              "       [b'5.0', b'3.4', b'1.5', b'0.2', b'Iris-setosa'],\n",
              "       [b'5.0', b'2.3', b'3.3', b'1.0', b'Iris-versicolor'],\n",
              "       [b'5.0', b'3.6', b'1.4', b'0.2', b'Iris-setosa'],\n",
              "       [b'5.0', b'3.0', b'1.6', b'0.2', b'Iris-setosa'],\n",
              "       [b'5.1', b'3.8', b'1.9', b'0.4', b'Iris-setosa'],\n",
              "       [b'5.1', b'3.8', b'1.6', b'0.2', b'Iris-setosa'],\n",
              "       [b'5.1', b'2.5', b'3.0', b'1.1', b'Iris-versicolor'],\n",
              "       [b'5.1', b'3.5', b'1.4', b'0.2', b'Iris-setosa'],\n",
              "       [b'5.1', b'3.4', b'1.5', b'0.2', b'Iris-setosa'],\n",
              "       [b'5.1', b'3.5', b'1.4', b'0.3', b'Iris-setosa'],\n",
              "       [b'5.1', b'3.3', b'1.7', b'0.5', b'Iris-setosa'],\n",
              "       [b'5.1', b'3.7', b'1.5', b'0.4', b'Iris-setosa'],\n",
              "       [b'5.1', b'3.8', b'1.5', b'0.3', b'Iris-setosa'],\n",
              "       [b'5.2', b'4.1', b'1.5', b'0.1', b'Iris-setosa'],\n",
              "       [b'5.2', b'3.4', b'1.4', b'0.2', b'Iris-setosa'],\n",
              "       [b'5.2', b'3.5', b'1.5', b'0.2', b'Iris-setosa'],\n",
              "       [b'5.2', b'2.7', b'3.9', b'1.4', b'Iris-versicolor'],\n",
              "       [b'5.3', b'3.7', b'1.5', b'0.2', b'Iris-setosa'],\n",
              "       [b'5.4', b'3.0', b'4.5', b'1.5', b'Iris-versicolor'],\n",
              "       [b'5.4', b'3.9', b'1.7', b'0.4', b'Iris-setosa'],\n",
              "       [b'5.4', b'3.4', b'1.7', b'0.2', b'Iris-setosa'],\n",
              "       [b'5.4', b'3.4', b'1.5', b'0.4', b'Iris-setosa'],\n",
              "       [b'5.4', b'3.7', b'1.5', b'0.2', b'Iris-setosa'],\n",
              "       [b'5.4', b'3.9', b'1.3', b'0.4', b'Iris-setosa'],\n",
              "       [b'5.5', b'3.5', b'1.3', b'0.2', b'Iris-setosa'],\n",
              "       [b'5.5', b'2.6', b'4.4', b'1.2', b'Iris-versicolor'],\n",
              "       [b'5.5', b'4.2', b'1.4', b'0.2', b'Iris-setosa'],\n",
              "       [b'5.5', b'2.3', b'4.0', b'1.3', b'Iris-versicolor'],\n",
              "       [b'5.5', b'2.4', b'3.7', b'1.0', b'Iris-versicolor'],\n",
              "       [b'5.5', b'2.4', b'3.8', b'1.1', b'Iris-versicolor'],\n",
              "       [b'5.5', b'2.5', b'4.0', b'1.3', b'Iris-versicolor'],\n",
              "       [b'5.6', b'3.0', b'4.1', b'1.3', b'Iris-versicolor'],\n",
              "       [b'5.6', b'2.8', b'4.9', b'2.0', b'Iris-virginica'],\n",
              "       [b'5.6', b'3.0', b'4.5', b'1.5', b'Iris-versicolor'],\n",
              "       [b'5.6', b'2.5', b'3.9', b'1.1', b'Iris-versicolor'],\n",
              "       [b'5.6', b'2.7', b'4.2', b'1.3', b'Iris-versicolor'],\n",
              "       [b'5.6', b'2.9', b'3.6', b'1.3', b'Iris-versicolor'],\n",
              "       [b'5.7', b'2.6', b'3.5', b'1.0', b'Iris-versicolor'],\n",
              "       [b'5.7', b'2.9', b'4.2', b'1.3', b'Iris-versicolor'],\n",
              "       [b'5.7', b'2.8', b'4.1', b'1.3', b'Iris-versicolor'],\n",
              "       [b'5.7', b'4.4', b'1.5', b'0.4', b'Iris-setosa'],\n",
              "       [b'5.7', b'2.8', b'4.5', b'1.3', b'Iris-versicolor'],\n",
              "       [b'5.7', b'2.5', b'5.0', b'2.0', b'Iris-virginica'],\n",
              "       [b'5.7', b'3.8', b'1.7', b'0.3', b'Iris-setosa'],\n",
              "       [b'5.7', b'3.0', b'4.2', b'1.2', b'Iris-versicolor'],\n",
              "       [b'5.8', b'2.7', b'4.1', b'1.0', b'Iris-versicolor'],\n",
              "       [b'5.8', b'4.0', b'1.2', b'0.2', b'Iris-setosa'],\n",
              "       [b'5.8', b'2.6', b'4.0', b'1.2', b'Iris-versicolor'],\n",
              "       [b'5.8', b'2.8', b'5.1', b'2.4', b'Iris-virginica'],\n",
              "       [b'5.8', b'2.7', b'5.1', b'1.9', b'Iris-virginica'],\n",
              "       [b'5.8', b'2.7', b'3.9', b'1.2', b'Iris-versicolor'],\n",
              "       [b'5.8', b'2.7', b'5.1', b'1.9', b'Iris-virginica'],\n",
              "       [b'5.9', b'3.0', b'5.1', b'1.8', b'Iris-virginica'],\n",
              "       [b'5.9', b'3.0', b'4.2', b'1.5', b'Iris-versicolor'],\n",
              "       [b'5.9', b'3.2', b'4.8', b'1.8', b'Iris-versicolor'],\n",
              "       [b'6.0', b'2.9', b'4.5', b'1.5', b'Iris-versicolor'],\n",
              "       [b'6.0', b'2.7', b'5.1', b'1.6', b'Iris-versicolor'],\n",
              "       [b'6.0', b'3.0', b'4.8', b'1.8', b'Iris-virginica'],\n",
              "       [b'6.0', b'3.4', b'4.5', b'1.6', b'Iris-versicolor'],\n",
              "       [b'6.0', b'2.2', b'4.0', b'1.0', b'Iris-versicolor'],\n",
              "       [b'6.0', b'2.2', b'5.0', b'1.5', b'Iris-virginica'],\n",
              "       [b'6.1', b'3.0', b'4.9', b'1.8', b'Iris-virginica'],\n",
              "       [b'6.1', b'2.6', b'5.6', b'1.4', b'Iris-virginica'],\n",
              "       [b'6.1', b'2.8', b'4.0', b'1.3', b'Iris-versicolor'],\n",
              "       [b'6.1', b'2.9', b'4.7', b'1.4', b'Iris-versicolor'],\n",
              "       [b'6.1', b'2.8', b'4.7', b'1.2', b'Iris-versicolor'],\n",
              "       [b'6.1', b'3.0', b'4.6', b'1.4', b'Iris-versicolor'],\n",
              "       [b'6.2', b'2.2', b'4.5', b'1.5', b'Iris-versicolor'],\n",
              "       [b'6.2', b'2.9', b'4.3', b'1.3', b'Iris-versicolor'],\n",
              "       [b'6.2', b'3.4', b'5.4', b'2.3', b'Iris-virginica'],\n",
              "       [b'6.2', b'2.8', b'4.8', b'1.8', b'Iris-virginica'],\n",
              "       [b'6.3', b'2.5', b'4.9', b'1.5', b'Iris-versicolor'],\n",
              "       [b'6.3', b'2.7', b'4.9', b'1.8', b'Iris-virginica'],\n",
              "       [b'6.3', b'2.5', b'5.0', b'1.9', b'Iris-virginica'],\n",
              "       [b'6.3', b'3.3', b'4.7', b'1.6', b'Iris-versicolor'],\n",
              "       [b'6.3', b'2.8', b'5.1', b'1.5', b'Iris-virginica'],\n",
              "       [b'6.3', b'3.3', b'6.0', b'2.5', b'Iris-virginica'],\n",
              "       [b'6.3', b'2.3', b'4.4', b'1.3', b'Iris-versicolor'],\n",
              "       [b'6.3', b'3.4', b'5.6', b'2.4', b'Iris-virginica'],\n",
              "       [b'6.3', b'2.9', b'5.6', b'1.8', b'Iris-virginica'],\n",
              "       [b'6.4', b'2.8', b'5.6', b'2.2', b'Iris-virginica'],\n",
              "       [b'6.4', b'2.8', b'5.6', b'2.1', b'Iris-virginica'],\n",
              "       [b'6.4', b'3.1', b'5.5', b'1.8', b'Iris-virginica'],\n",
              "       [b'6.4', b'3.2', b'4.5', b'1.5', b'Iris-versicolor'],\n",
              "       [b'6.4', b'3.2', b'5.3', b'2.3', b'Iris-virginica'],\n",
              "       [b'6.4', b'2.9', b'4.3', b'1.3', b'Iris-versicolor'],\n",
              "       [b'6.4', b'2.7', b'5.3', b'1.9', b'Iris-virginica'],\n",
              "       [b'6.5', b'3.0', b'5.8', b'2.2', b'Iris-virginica'],\n",
              "       [b'6.5', b'3.0', b'5.5', b'1.8', b'Iris-virginica'],\n",
              "       [b'6.5', b'3.0', b'5.2', b'2.0', b'Iris-virginica'],\n",
              "       [b'6.5', b'2.8', b'4.6', b'1.5', b'Iris-versicolor'],\n",
              "       [b'6.5', b'3.2', b'5.1', b'2.0', b'Iris-virginica'],\n",
              "       [b'6.6', b'2.9', b'4.6', b'1.3', b'Iris-versicolor'],\n",
              "       [b'6.6', b'3.0', b'4.4', b'1.4', b'Iris-versicolor'],\n",
              "       [b'6.7', b'3.1', b'4.7', b'1.5', b'Iris-versicolor'],\n",
              "       [b'6.7', b'3.1', b'5.6', b'2.4', b'Iris-virginica'],\n",
              "       [b'6.7', b'2.5', b'5.8', b'1.8', b'Iris-virginica'],\n",
              "       [b'6.7', b'3.0', b'5.0', b'1.7', b'Iris-versicolor'],\n",
              "       [b'6.7', b'3.1', b'4.4', b'1.4', b'Iris-versicolor'],\n",
              "       [b'6.7', b'3.3', b'5.7', b'2.5', b'Iris-virginica'],\n",
              "       [b'6.7', b'3.0', b'5.2', b'2.3', b'Iris-virginica'],\n",
              "       [b'6.7', b'3.3', b'5.7', b'2.1', b'Iris-virginica'],\n",
              "       [b'6.8', b'3.2', b'5.9', b'2.3', b'Iris-virginica'],\n",
              "       [b'6.8', b'2.8', b'4.8', b'1.4', b'Iris-versicolor'],\n",
              "       [b'6.8', b'3.0', b'5.5', b'2.1', b'Iris-virginica'],\n",
              "       [b'6.9', b'3.1', b'5.4', b'2.1', b'Iris-virginica'],\n",
              "       [b'6.9', b'3.1', b'5.1', b'2.3', b'Iris-virginica'],\n",
              "       [b'6.9', b'3.1', b'4.9', b'1.5', b'Iris-versicolor'],\n",
              "       [b'6.9', b'3.2', b'5.7', b'2.3', b'Iris-virginica'],\n",
              "       [b'7.0', b'3.2', b'4.7', b'1.4', b'Iris-versicolor'],\n",
              "       [b'7.1', b'3.0', b'5.9', b'2.1', b'Iris-virginica'],\n",
              "       [b'7.2', b'3.0', b'5.8', b'1.6', b'Iris-virginica'],\n",
              "       [b'7.2', b'3.2', b'6.0', b'1.8', b'Iris-virginica'],\n",
              "       [b'7.2', b'3.6', b'6.1', b'2.5', b'Iris-virginica'],\n",
              "       [b'7.3', b'2.9', b'6.3', b'1.8', b'Iris-virginica'],\n",
              "       [b'7.4', b'2.8', b'6.1', b'1.9', b'Iris-virginica'],\n",
              "       [b'7.6', b'3.0', b'6.6', b'2.1', b'Iris-virginica'],\n",
              "       [b'7.7', b'2.8', b'6.7', b'2.0', b'Iris-virginica'],\n",
              "       [b'7.7', b'2.6', b'6.9', b'2.3', b'Iris-virginica'],\n",
              "       [b'7.7', b'3.8', b'6.7', b'2.2', b'Iris-virginica'],\n",
              "       [b'7.7', b'3.0', b'6.1', b'2.3', b'Iris-virginica'],\n",
              "       [b'7.9', b'3.8', b'6.4', b'2.0', b'Iris-virginica']], dtype=object)"
            ]
          },
          "metadata": {},
          "execution_count": 12
        }
      ]
    },
    {
      "cell_type": "markdown",
      "metadata": {
        "id": "_ymdLB0s3Xbe"
      },
      "source": [
        "## Problem 27\n",
        "\n",
        "Find the most frequent value of `petallength` (3rd column) in iris dataset.\n",
        "\n",
        "Input:\n",
        "\n",
        "`url = 'https://archive.ics.uci.edu/ml/machine-learning-databases/iris/iris.data'`\n",
        "\n",
        "`iris = np.genfromtxt(url, delimiter=',', dtype='object')`\n",
        "\n",
        "`names = ('sepallength', 'sepalwidth', 'petallength', 'petalwidth', 'species')`"
      ]
    },
    {
      "cell_type": "code",
      "metadata": {
        "id": "r0dclSo57NwH",
        "outputId": "520c0f85-70b8-4937-cdf1-154e4227c557",
        "colab": {
          "base_uri": "https://localhost:8080/"
        }
      },
      "source": [
        "from scipy import stats\n",
        "m = stats.mode(iris[:,2])\n",
        "print(m.mode[0])"
      ],
      "execution_count": 16,
      "outputs": [
        {
          "output_type": "stream",
          "name": "stdout",
          "text": [
            "b'1.5'\n"
          ]
        }
      ]
    },
    {
      "cell_type": "markdown",
      "metadata": {
        "id": "aVZfb9513Ybf"
      },
      "source": [
        "## Problem 28\n",
        "\n",
        "Find the position of the first occurrence of a value greater than 1.0 in `petalwidth` 4th column of iris dataset.\n",
        "\n",
        "Input:\n",
        "\n",
        "`url = 'https://archive.ics.uci.edu/ml/machine-learning-databases/iris/iris.data'`\n",
        "\n",
        "`iris = np.genfromtxt(url, delimiter=',', dtype='object')`\n",
        "\n",
        "`names = ('sepallength', 'sepalwidth', 'petallength', 'petalwidth', 'species')`\n"
      ]
    },
    {
      "cell_type": "code",
      "metadata": {
        "id": "kpxRV5i97mw9",
        "outputId": "0b1e4d0d-1a57-4576-f750-4bf647f2b1a2",
        "colab": {
          "base_uri": "https://localhost:8080/"
        }
      },
      "source": [
        "j = np.argmax(iris[:,3] > b'1')\n",
        "print(iris[:j+1,3])\n",
        "print(j)"
      ],
      "execution_count": 30,
      "outputs": [
        {
          "output_type": "stream",
          "name": "stdout",
          "text": [
            "[b'0.2' b'0.2' b'0.2' b'0.2' b'0.2' b'0.4' b'0.3' b'0.2' b'0.2' b'0.1'\n",
            " b'0.2' b'0.2' b'0.1' b'0.1' b'0.2' b'0.4' b'0.4' b'0.3' b'0.3' b'0.3'\n",
            " b'0.2' b'0.4' b'0.2' b'0.5' b'0.2' b'0.2' b'0.4' b'0.2' b'0.2' b'0.2'\n",
            " b'0.2' b'0.4' b'0.1' b'0.2' b'0.1' b'0.2' b'0.2' b'0.1' b'0.2' b'0.2'\n",
            " b'0.3' b'0.3' b'0.2' b'0.6' b'0.4' b'0.3' b'0.2' b'0.2' b'0.2' b'0.2'\n",
            " b'1.4']\n",
            "50\n"
          ]
        }
      ]
    },
    {
      "cell_type": "markdown",
      "metadata": {
        "id": "xzpB7TGm3ZUM"
      },
      "source": [
        "## Problem 29\n",
        "\n",
        "From the array `a`, replace all values greater than 30 to 30 and less than 10 to 10.\n",
        "\n",
        "Input:\n",
        "\n",
        "`np.random.seed(100)`\n",
        "\n",
        "`a = np.random.uniform(1,50, 20)`\n"
      ]
    },
    {
      "cell_type": "code",
      "metadata": {
        "id": "sqouqYXL852K",
        "outputId": "af1c6fc6-6bd9-4c20-a281-c6cc0ecd8427",
        "colab": {
          "base_uri": "https://localhost:8080/"
        }
      },
      "source": [
        "np.random.seed(100)\n",
        "\n",
        "a = np.random.uniform(1,50, 20)\n",
        "print(a)\n",
        "print(\"\\n\\n\")\n",
        "a[(a>30)] = 30\n",
        "a[(a<10)] = 10\n",
        "print(a)"
      ],
      "execution_count": 32,
      "outputs": [
        {
          "output_type": "stream",
          "name": "stdout",
          "text": [
            "[27.62684215 14.64009987 21.80136195 42.39403048  1.23122395  6.95688692\n",
            " 33.86670515 41.466785    7.69862289 29.17957314 44.67477576 11.25090398\n",
            " 10.08108276  6.31046763 11.76517714 48.95256545 40.77247431  9.42510962\n",
            " 40.99501269 14.42961361]\n",
            "\n",
            "\n",
            "\n",
            "[27.62684215 14.64009987 21.80136195 30.         10.         10.\n",
            " 30.         30.         10.         29.17957314 30.         11.25090398\n",
            " 10.08108276 10.         11.76517714 30.         30.         10.\n",
            " 30.         14.42961361]\n"
          ]
        }
      ]
    },
    {
      "cell_type": "markdown",
      "metadata": {
        "id": "LXdQeKks3aMk"
      },
      "source": [
        "## Problem 30\n",
        "\n",
        "Find the duplicate entries (2nd occurrence onwards) in the given numpy array and mark them as True. First time occurrences should be False.\n",
        "\n",
        "Input:\n",
        "\n",
        "`np.random.seed(100)`\n",
        "\n",
        "`a = np.random.randint(0, 5, 10)`"
      ]
    },
    {
      "cell_type": "code",
      "metadata": {
        "id": "nLxMf05L-16C",
        "outputId": "38b55453-20b9-4748-e5f4-87e404f82bfd",
        "colab": {
          "base_uri": "https://localhost:8080/"
        }
      },
      "source": [
        "np.random.seed(100)\n",
        "a = np.random.randint(0, 5, 10)\n",
        "d = {}\n",
        "print(a)\n",
        "for i in range(len(a)):\n",
        "  if a[i] in d:\n",
        "    a[i] = True\n",
        "    continue\n",
        "  d[a[i]] = 1\n",
        "  a[i] = False\n",
        "print(a)"
      ],
      "execution_count": 44,
      "outputs": [
        {
          "output_type": "stream",
          "name": "stdout",
          "text": [
            "[0 0 3 0 2 4 2 2 2 2]\n",
            "[0 1 0 1 0 0 1 1 1 1]\n"
          ]
        }
      ]
    }
  ]
}