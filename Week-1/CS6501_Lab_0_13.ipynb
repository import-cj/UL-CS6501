{
  "nbformat": 4,
  "nbformat_minor": 0,
  "metadata": {
    "colab": {
      "name": "CS6501_Lab-0_13.ipynb",
      "provenance": [],
      "collapsed_sections": []
    },
    "kernelspec": {
      "name": "python3",
      "display_name": "Python 3"
    },
    "language_info": {
      "name": "python"
    }
  },
  "cells": [
    {
      "cell_type": "markdown",
      "metadata": {
        "id": "xDKIjqUaI69h"
      },
      "source": [
        "<div>\n",
        "<img src=\"https://drive.google.com/uc?export=view&id=1vK33e_EqaHgBHcbRV_m38hx6IkG0blK_\" width=\"350\"/>\n",
        "</div> \n",
        "\n",
        "#**Artificial Intelligence - MSc**\n",
        "CS6501 - MACHINE LEARNING AND APPLICATIONS \n",
        "\n",
        "###Instructor: Enrique Naredo\n",
        "###CS6501_Lab-0.13_sol\n",
        "\n",
        "#**Extra Numpy problems**"
      ]
    },
    {
      "cell_type": "markdown",
      "metadata": {
        "id": "gRbds0ey3HEP"
      },
      "source": [
        "## Problem 1 \n",
        "\n",
        "Import numpy as np and print the version number."
      ]
    },
    {
      "cell_type": "code",
      "metadata": {
        "id": "fo2DdfkV9J3f",
        "outputId": "54a5ded7-82fa-4c02-bea6-d63df91ac77a",
        "colab": {
          "base_uri": "https://localhost:8080/"
        }
      },
      "source": [
        "import numpy as np\n",
        "print(np.__version__)"
      ],
      "execution_count": 1,
      "outputs": [
        {
          "output_type": "stream",
          "name": "stdout",
          "text": [
            "1.19.5\n"
          ]
        }
      ]
    },
    {
      "cell_type": "markdown",
      "metadata": {
        "id": "gIIIT_FBJbuE"
      },
      "source": [
        "## Problem 2\n",
        "\n",
        "Create a 3×3 numpy array of all True’s"
      ]
    },
    {
      "cell_type": "code",
      "metadata": {
        "id": "bGjehLSHu_R4",
        "outputId": "0a67d7c8-7a2c-4a0b-fc8d-824c2561130f",
        "colab": {
          "base_uri": "https://localhost:8080/"
        }
      },
      "source": [
        "np.array([True for _ in range(9)]).reshape(3,3)"
      ],
      "execution_count": 3,
      "outputs": [
        {
          "output_type": "execute_result",
          "data": {
            "text/plain": [
              "array([[ True,  True,  True],\n",
              "       [ True,  True,  True],\n",
              "       [ True,  True,  True]])"
            ]
          },
          "metadata": {},
          "execution_count": 3
        }
      ]
    },
    {
      "cell_type": "markdown",
      "metadata": {
        "id": "pPdzBnVz3QzM"
      },
      "source": [
        "## Problem 3\n",
        "\n",
        "Extract all odd numbers from a 1D array"
      ]
    },
    {
      "cell_type": "code",
      "metadata": {
        "id": "KI25ZvutvsOe",
        "outputId": "20e7bb59-aa71-4119-dde6-ecf70f12a378",
        "colab": {
          "base_uri": "https://localhost:8080/"
        }
      },
      "source": [
        "a=np.random.randint(1,30,10)\n",
        "print(a)\n",
        "a[a%2==1]"
      ],
      "execution_count": 7,
      "outputs": [
        {
          "output_type": "stream",
          "name": "stdout",
          "text": [
            "[ 4 20 16 24 20 25  5 28 18 27]\n"
          ]
        },
        {
          "output_type": "execute_result",
          "data": {
            "text/plain": [
              "array([25,  5, 27])"
            ]
          },
          "metadata": {},
          "execution_count": 7
        }
      ]
    },
    {
      "cell_type": "markdown",
      "metadata": {
        "id": "YQtmklEc3Uz8"
      },
      "source": [
        "## Problem 4\n",
        "\n",
        "Replace all odd numbers in a 1D array with -1"
      ]
    },
    {
      "cell_type": "code",
      "metadata": {
        "id": "ukbmFIzdwhW2",
        "outputId": "2d64ad4e-930a-46ec-a86f-a1a37bd729d1",
        "colab": {
          "base_uri": "https://localhost:8080/"
        }
      },
      "source": [
        "a=np.random.randint(1,30,10)\n",
        "print(a)\n",
        "a[a%2==1] = -1\n",
        "print(a)"
      ],
      "execution_count": 9,
      "outputs": [
        {
          "output_type": "stream",
          "name": "stdout",
          "text": [
            "[ 3 28 16 13 25 10  7  4  8 10]\n",
            "[-1 28 16 -1 -1 10 -1  4  8 10]\n"
          ]
        }
      ]
    },
    {
      "cell_type": "markdown",
      "metadata": {
        "id": "m5Qo4J-Z3VuE"
      },
      "source": [
        "## Problem 5\n",
        "\n",
        "Convert a 1D array to a 2D array with 2 rows"
      ]
    },
    {
      "cell_type": "code",
      "metadata": {
        "id": "_49U6MUnw5y8",
        "outputId": "1bcf6f38-0b03-45ac-f6e2-f5efa8eb1765",
        "colab": {
          "base_uri": "https://localhost:8080/"
        }
      },
      "source": [
        "a=np.random.randint(1,30,10)\n",
        "print(a)\n",
        "print(a.reshape(2,5))\n"
      ],
      "execution_count": 11,
      "outputs": [
        {
          "output_type": "stream",
          "name": "stdout",
          "text": [
            "[25  9 21 15  5 28  9 24 25 15]\n",
            "[[25  9 21 15  5]\n",
            " [28  9 24 25 15]]\n"
          ]
        }
      ]
    },
    {
      "cell_type": "markdown",
      "metadata": {
        "id": "5S17OHj63Wc1"
      },
      "source": [
        "## Problem 6\n",
        "\n",
        "Create the following pattern without hardcoding. Use only numpy functions and the below input array a.\n",
        "\n",
        "Input:\n",
        "\n",
        "`a = np.array([1,2,3])`\n",
        "\n",
        "Desired Output:\n",
        "\n",
        "`array([1, 1, 1, 2, 2, 2, 3, 3, 3, 1, 2, 3, 1, 2, 3, 1, 2, 3])`"
      ]
    },
    {
      "cell_type": "code",
      "metadata": {
        "id": "GvwEaztgxMmP",
        "outputId": "8036f0a0-765e-438b-a8a6-9a98fac900b2",
        "colab": {
          "base_uri": "https://localhost:8080/"
        }
      },
      "source": [
        "a = np.array([1,2,3])\n",
        "np.concatenate((np.repeat(a,3), np.tile(a,3)))"
      ],
      "execution_count": 16,
      "outputs": [
        {
          "output_type": "execute_result",
          "data": {
            "text/plain": [
              "array([1, 1, 1, 2, 2, 2, 3, 3, 3, 1, 2, 3, 1, 2, 3, 1, 2, 3])"
            ]
          },
          "metadata": {},
          "execution_count": 16
        }
      ]
    },
    {
      "cell_type": "markdown",
      "metadata": {
        "id": "_ymdLB0s3Xbe"
      },
      "source": [
        "## Problem 7\n",
        "\n",
        "Get the common items between a and b\n",
        "\n",
        "Input:\n",
        "\n",
        "`a = np.array([1,2,3,2,3,4,3,4,5,6])`\n",
        "\n",
        "`b = np.array([7,2,10,2,7,4,9,4,9,8])`\n",
        "\n",
        "Desired Output:\n",
        "\n",
        "`array([2, 4])`"
      ]
    },
    {
      "cell_type": "code",
      "metadata": {
        "id": "kxbcS9QlzDFH",
        "outputId": "7719dc28-4edd-4b8c-b61d-f864029b932a",
        "colab": {
          "base_uri": "https://localhost:8080/"
        }
      },
      "source": [
        "a = np.array([1,2,3,2,3,4,3,4,5,6])\n",
        "b = np.array([7,2,10,2,7,4,9,4,9,8])\n",
        "np.intersect1d(a,b)"
      ],
      "execution_count": 18,
      "outputs": [
        {
          "output_type": "execute_result",
          "data": {
            "text/plain": [
              "array([2, 4])"
            ]
          },
          "metadata": {},
          "execution_count": 18
        }
      ]
    },
    {
      "cell_type": "markdown",
      "metadata": {
        "id": "aVZfb9513Ybf"
      },
      "source": [
        "## Problem 8\n",
        "\n",
        "From array a remove all items present in array b\n",
        "\n",
        "Input:\n",
        "\n",
        "`a = np.array([1,2,3,4,5])`\n",
        "\n",
        "`b = np.array([5,6,7,8,9])`\n",
        "\n",
        "Desired Output:\n",
        "\n",
        "`array([1,2,3,4])`"
      ]
    },
    {
      "cell_type": "code",
      "metadata": {
        "id": "g2BzjL6YzMGW",
        "outputId": "b03e55ef-e6d6-4df7-d1b8-978b70a98444",
        "colab": {
          "base_uri": "https://localhost:8080/"
        }
      },
      "source": [
        "a = np.array([1,2,3,4,5])\n",
        "b = np.array([5,6,7,8,9])\n",
        "np.setdiff1d(a,b)"
      ],
      "execution_count": 21,
      "outputs": [
        {
          "output_type": "execute_result",
          "data": {
            "text/plain": [
              "array([1, 2, 3, 4])"
            ]
          },
          "metadata": {},
          "execution_count": 21
        }
      ]
    },
    {
      "cell_type": "markdown",
      "metadata": {
        "id": "xzpB7TGm3ZUM"
      },
      "source": [
        "## Problem 9\n",
        "\n",
        "Get the positions where elements of a and b match\n",
        "\n",
        "Input:\n",
        "\n",
        "`a = np.array([1,2,3,2,3,4,3,4,5,6])`\n",
        "\n",
        "`b = np.array([7,2,10,2,7,4,9,4,9,8])`\n",
        "\n",
        "Desired Output:\n",
        "\n",
        "`(array([1, 3, 5, 7]),)`"
      ]
    },
    {
      "cell_type": "code",
      "metadata": {
        "id": "HvTFiEdh0Q1x",
        "outputId": "6d49a8bf-c8a4-41db-b921-879ba16a74db",
        "colab": {
          "base_uri": "https://localhost:8080/"
        }
      },
      "source": [
        "a = np.array([1,2,3,2,3,4,3,4,5,6])\n",
        "b = np.array([7,2,10,2,7,4,9,4,9,8])\n",
        "np.where(a==b)"
      ],
      "execution_count": 25,
      "outputs": [
        {
          "output_type": "execute_result",
          "data": {
            "text/plain": [
              "(array([1, 3, 5, 7]),)"
            ]
          },
          "metadata": {},
          "execution_count": 25
        }
      ]
    },
    {
      "cell_type": "markdown",
      "metadata": {
        "id": "LXdQeKks3aMk"
      },
      "source": [
        "## Problem 10\n",
        "\n",
        "Get all items between 5 and 10 from a.\n",
        "\n",
        "Input:\n",
        "\n",
        "`a = np.array([2, 6, 1, 9, 10, 3, 27])`\n",
        "\n",
        "Desired Output:\n",
        "\n",
        "`array([6, 9, 10])`"
      ]
    },
    {
      "cell_type": "code",
      "metadata": {
        "id": "8kteZYx2zoM3",
        "outputId": "1af021e6-81f9-4899-c38f-a1f99a4d8708",
        "colab": {
          "base_uri": "https://localhost:8080/"
        }
      },
      "source": [
        "a = np.array([2, 6, 1, 9, 10, 3, 27])\n",
        "a[(a<=10) & (a>=5)]"
      ],
      "execution_count": 24,
      "outputs": [
        {
          "output_type": "execute_result",
          "data": {
            "text/plain": [
              "array([ 6,  9, 10])"
            ]
          },
          "metadata": {},
          "execution_count": 24
        }
      ]
    }
  ]
}