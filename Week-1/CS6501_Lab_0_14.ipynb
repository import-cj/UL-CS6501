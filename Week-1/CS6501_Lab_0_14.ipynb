{
  "nbformat": 4,
  "nbformat_minor": 0,
  "metadata": {
    "colab": {
      "name": "CS6501_Lab-0_14.ipynb",
      "provenance": [],
      "collapsed_sections": []
    },
    "kernelspec": {
      "name": "python3",
      "display_name": "Python 3"
    },
    "language_info": {
      "name": "python"
    }
  },
  "cells": [
    {
      "cell_type": "markdown",
      "metadata": {
        "id": "xDKIjqUaI69h"
      },
      "source": [
        "<div>\n",
        "<img src=\"https://drive.google.com/uc?export=view&id=1vK33e_EqaHgBHcbRV_m38hx6IkG0blK_\" width=\"350\"/>\n",
        "</div> \n",
        "\n",
        "#**Artificial Intelligence - MSc**\n",
        "CS6501 - MACHINE LEARNING AND APPLICATIONS \n",
        "\n",
        "###Instructor: Enrique Naredo\n",
        "###CS6501_Lab-0.14_sol\n",
        "\n",
        "#**Extra Numpy problems**"
      ]
    },
    {
      "cell_type": "code",
      "metadata": {
        "id": "4XteONLD7v9_"
      },
      "source": [
        "import numpy as np"
      ],
      "execution_count": 1,
      "outputs": []
    },
    {
      "cell_type": "markdown",
      "metadata": {
        "id": "gRbds0ey3HEP"
      },
      "source": [
        "## Problem 11\n",
        "\n",
        "Convert the function `maxx` that works on two scalars, to work on two arrays.\n",
        "\n",
        "    def maxx(x, y):\n",
        "     #Get the maximum of two items\n",
        "     if x >= y:\n",
        "        return x\n",
        "     else:\n",
        "         return y\n",
        "\n",
        "Input:\n",
        "\n",
        "`a = np.array([5, 7, 9, 8, 6, 4, 5])`\n",
        "\n",
        "`b = np.array([6, 3, 4, 8, 9, 7, 1])`\n",
        "\n",
        "Desired Output:\n",
        "\n",
        "`array([ 6.,  7.,  9.,  8.,  9.,  7.,  5.])`"
      ]
    },
    {
      "cell_type": "code",
      "metadata": {
        "id": "vzqZD_fW00e7",
        "outputId": "e99406bd-d2ad-473f-ddb5-20a2fef49b65",
        "colab": {
          "base_uri": "https://localhost:8080/"
        }
      },
      "source": [
        "def maxx(x, y):\n",
        "  for i in range(len(x)):\n",
        "    yield max(x[i],y[i])\n",
        "a = np.array([5, 7, 9, 8, 6, 4, 5])\n",
        "b = np.array([6, 3, 4, 8, 9, 7, 1])\n",
        "list(maxx(a,b))"
      ],
      "execution_count": 2,
      "outputs": [
        {
          "output_type": "execute_result",
          "data": {
            "text/plain": [
              "[6, 7, 9, 8, 9, 7, 5]"
            ]
          },
          "metadata": {},
          "execution_count": 2
        }
      ]
    },
    {
      "cell_type": "markdown",
      "metadata": {
        "id": "gIIIT_FBJbuE"
      },
      "source": [
        "## Problem 12\n",
        "\n",
        "Swap columns 0 and 1 in the array `arr`.\n",
        "\n",
        "Input:\n",
        "\n",
        "`arr = np.arange(9).reshape(3,3)`\n",
        "\n",
        "Desired Output:\n",
        "\n",
        "`array([[1, 0, 2],\n",
        "       [4, 3, 5],\n",
        "       [7, 6, 8]])`"
      ]
    },
    {
      "cell_type": "code",
      "metadata": {
        "id": "P0g_x-jr1qxR",
        "outputId": "59371c2c-ddcf-4d7e-b4b5-25f1e10d624c",
        "colab": {
          "base_uri": "https://localhost:8080/"
        }
      },
      "source": [
        "arr = np.arange(9).reshape(3,3)\n",
        "print(arr)\n",
        "arr[:,[0,1]] = arr[:,[1,0]]\n",
        "print(arr)"
      ],
      "execution_count": 10,
      "outputs": [
        {
          "output_type": "stream",
          "name": "stdout",
          "text": [
            "[[0 1 2]\n",
            " [3 4 5]\n",
            " [6 7 8]]\n",
            "[[1 0 2]\n",
            " [4 3 5]\n",
            " [7 6 8]]\n"
          ]
        }
      ]
    },
    {
      "cell_type": "markdown",
      "metadata": {
        "id": "pPdzBnVz3QzM"
      },
      "source": [
        "## Problem 13\n",
        "\n",
        "Swap rows 0 and 1 in the array `arr`.\n",
        "\n",
        "Input:\n",
        "\n",
        "`arr = np.arange(9).reshape(3,3)`\n",
        "\n",
        "Desired Output:\n",
        "\n",
        "`array([[3, 4, 5],\n",
        "        [0, 1, 2],\n",
        "        [6, 7, 8]])`"
      ]
    },
    {
      "cell_type": "code",
      "metadata": {
        "id": "6o23xwtG4Vj_",
        "outputId": "a1c9cbfe-967e-42ad-ba54-33f72f26b3ce",
        "colab": {
          "base_uri": "https://localhost:8080/"
        }
      },
      "source": [
        "arr = np.arange(9).reshape(3,3)\n",
        "print(arr)\n",
        "arr[[0,1],:] = arr[[1,0],:]\n",
        "print(arr)"
      ],
      "execution_count": 11,
      "outputs": [
        {
          "output_type": "stream",
          "name": "stdout",
          "text": [
            "[[0 1 2]\n",
            " [3 4 5]\n",
            " [6 7 8]]\n",
            "[[3 4 5]\n",
            " [0 1 2]\n",
            " [6 7 8]]\n"
          ]
        }
      ]
    },
    {
      "cell_type": "markdown",
      "metadata": {
        "id": "YQtmklEc3Uz8"
      },
      "source": [
        "## Problem 14\n",
        "\n",
        "Reverse the rows of a 2D array `arr`.\n",
        "\n",
        "Input:\n",
        "\n",
        "`arr = np.arange(9).reshape(3,3)`\n",
        "\n",
        "Desired Output:\n",
        "\n",
        "`array([[6, 7, 8],\n",
        "       [3, 4, 5],\n",
        "       [0, 1, 2]])`"
      ]
    },
    {
      "cell_type": "code",
      "metadata": {
        "id": "Lnc19FLx4hqb",
        "outputId": "6614a171-6510-4f49-92eb-89b5fe928dbc",
        "colab": {
          "base_uri": "https://localhost:8080/"
        }
      },
      "source": [
        "arr = np.arange(9).reshape(3,3)\n",
        "print(arr)\n",
        "print(np.flip(arr,0))"
      ],
      "execution_count": 15,
      "outputs": [
        {
          "output_type": "stream",
          "name": "stdout",
          "text": [
            "[[0 1 2]\n",
            " [3 4 5]\n",
            " [6 7 8]]\n",
            "[[6 7 8]\n",
            " [3 4 5]\n",
            " [0 1 2]]\n"
          ]
        }
      ]
    },
    {
      "cell_type": "markdown",
      "metadata": {
        "id": "m5Qo4J-Z3VuE"
      },
      "source": [
        "## Problem 15\n",
        "\n",
        "Reverse the columns of a 2D array `arr`.\n",
        "\n",
        "Input:\n",
        "\n",
        "`arr = np.arange(9).reshape(3,3)`\n",
        "\n",
        "Desired Output:\n",
        "\n",
        "`array([[2, 1, 0],\n",
        "       [5, 4, 3],\n",
        "       [8, 7, 6]])`\n"
      ]
    },
    {
      "cell_type": "code",
      "metadata": {
        "id": "drU44ESZ6JKO",
        "outputId": "733bbb0d-ec91-45c7-f5c8-8757269fda6f",
        "colab": {
          "base_uri": "https://localhost:8080/"
        }
      },
      "source": [
        "arr = np.arange(9).reshape(3,3)\n",
        "print(arr)\n",
        "print(np.flip(arr,1))\n"
      ],
      "execution_count": 21,
      "outputs": [
        {
          "output_type": "stream",
          "name": "stdout",
          "text": [
            "[[0 1 2]\n",
            " [3 4 5]\n",
            " [6 7 8]]\n",
            "[[2 1 0]\n",
            " [5 4 3]\n",
            " [8 7 6]]\n"
          ]
        }
      ]
    },
    {
      "cell_type": "markdown",
      "metadata": {
        "id": "5S17OHj63Wc1"
      },
      "source": [
        "## Problem 16\n",
        "\n",
        "Print or show only 3 decimal places of the numpy array `rand_arr`.\n",
        "\n",
        "Input:\n",
        "\n",
        "`rand_arr = np.random.random((5,3))`\n"
      ]
    },
    {
      "cell_type": "code",
      "metadata": {
        "id": "nC6Y4ENG7a9e",
        "outputId": "ca058b03-9a31-4368-8007-04183d0b07fc",
        "colab": {
          "base_uri": "https://localhost:8080/"
        }
      },
      "source": [
        "import numpy as np\n",
        "rand_arr = np.random.random((5,3))\n",
        "print(rand_arr)\n",
        "np.set_printoptions(precision=3)\n",
        "print(rand_arr)"
      ],
      "execution_count": 2,
      "outputs": [
        {
          "output_type": "stream",
          "name": "stdout",
          "text": [
            "[[0.97263245 0.78744011 0.09616032]\n",
            " [0.88218788 0.66553831 0.14011971]\n",
            " [0.3685998  0.27327027 0.73967115]\n",
            " [0.82035745 0.71684624 0.55663756]\n",
            " [0.8194178  0.17310246 0.99658398]]\n",
            "[[0.973 0.787 0.096]\n",
            " [0.882 0.666 0.14 ]\n",
            " [0.369 0.273 0.74 ]\n",
            " [0.82  0.717 0.557]\n",
            " [0.819 0.173 0.997]]\n"
          ]
        }
      ]
    },
    {
      "cell_type": "markdown",
      "metadata": {
        "id": "_ymdLB0s3Xbe"
      },
      "source": [
        "## Problem 17\n",
        "\n",
        "Limit the number of items printed in python numpy array a to a maximum of 6 elements.\n",
        "\n",
        "Input:\n",
        "\n",
        "`a = np.arange(15)`\n",
        "\n",
        "Desired Output:\n",
        "\n",
        "`array([ 0,  1,  2, ..., 12, 13, 14])`\n"
      ]
    },
    {
      "cell_type": "code",
      "metadata": {
        "id": "jnQw4evw8njN",
        "outputId": "8ccb8521-a397-4a19-a69b-29c94a12406a",
        "colab": {
          "base_uri": "https://localhost:8080/"
        }
      },
      "source": [
        "a = np.arange(15)\n",
        "np.set_printoptions(threshold=6)\n",
        "\n",
        "print(a)"
      ],
      "execution_count": 3,
      "outputs": [
        {
          "output_type": "stream",
          "name": "stdout",
          "text": [
            "[ 0  1  2 ... 12 13 14]\n"
          ]
        }
      ]
    },
    {
      "cell_type": "markdown",
      "metadata": {
        "id": "aVZfb9513Ybf"
      },
      "source": [
        "## Problem 18\n",
        "\n",
        "Import the [iris dataset](https://archive.ics.uci.edu/ml/machine-learning-databases/iris/iris.data) with numbers and texts keeping the text intact in Numpy."
      ]
    },
    {
      "cell_type": "code",
      "metadata": {
        "id": "N12EqJe182fQ"
      },
      "source": [
        "url = 'https://archive.ics.uci.edu/ml/machine-learning-databases/iris/iris.data'\n",
        "iris = np.genfromtxt(url, delimiter=',', dtype='object')\n",
        "names = ('sepallength', 'sepalwidth', 'petallength', 'petalwidth', 'species')"
      ],
      "execution_count": 4,
      "outputs": []
    },
    {
      "cell_type": "markdown",
      "metadata": {
        "id": "xzpB7TGm3ZUM"
      },
      "source": [
        "## Problem 19\n",
        "\n",
        "Find the mean, median, standard deviation of iris's `sepallength` (1st column)"
      ]
    },
    {
      "cell_type": "code",
      "metadata": {
        "id": "iKiX7Snf9Chu",
        "outputId": "adcf97ec-f969-4131-e8b0-4e424a252879",
        "colab": {
          "base_uri": "https://localhost:8080/"
        }
      },
      "source": [
        "sepallength = np.genfromtxt(url, delimiter=',', dtype='float', usecols=[0])\n",
        "print(np.mean(sepallength))\n",
        "print(np.median(sepallength))\n",
        "print(np.std(sepallength))"
      ],
      "execution_count": 19,
      "outputs": [
        {
          "output_type": "stream",
          "name": "stdout",
          "text": [
            "5.843333333333334\n",
            "5.8\n",
            "0.8253012917851409\n"
          ]
        }
      ]
    },
    {
      "cell_type": "markdown",
      "metadata": {
        "id": "LXdQeKks3aMk"
      },
      "source": [
        "## Problem 20\n",
        "\n",
        "Create a normalized form of iris's `sepallength` whose values range exactly between 0 and 1 so that the minimum has value 0 and maximum has value 1.\n"
      ]
    },
    {
      "cell_type": "code",
      "metadata": {
        "id": "07CBmBiPh3Zv",
        "outputId": "9468802b-dbbb-449d-bb89-184932e90f18",
        "colab": {
          "base_uri": "https://localhost:8080/"
        }
      },
      "source": [
        "Smax, Smin = sepallength.max(), sepallength.min()\n",
        "S = (sepallength - Smin)/(Smax - Smin)\n",
        "print(S)"
      ],
      "execution_count": 20,
      "outputs": [
        {
          "output_type": "stream",
          "name": "stdout",
          "text": [
            "[0.222 0.167 0.111 ... 0.611 0.528 0.444]\n"
          ]
        }
      ]
    }
  ]
}