{
  "nbformat": 4,
  "nbformat_minor": 0,
  "metadata": {
    "colab": {
      "name": "CS6501_Lab-0_16.ipynb",
      "provenance": [],
      "collapsed_sections": []
    },
    "kernelspec": {
      "name": "python3",
      "display_name": "Python 3"
    },
    "language_info": {
      "name": "python"
    }
  },
  "cells": [
    {
      "cell_type": "markdown",
      "metadata": {
        "id": "xDKIjqUaI69h"
      },
      "source": [
        "<div>\n",
        "<img src=\"https://drive.google.com/uc?export=view&id=1vK33e_EqaHgBHcbRV_m38hx6IkG0blK_\" width=\"350\"/>\n",
        "</div> \n",
        "\n",
        "#**Artificial Intelligence - MSc**\n",
        "CS6501 - MACHINE LEARNING AND APPLICATIONS \n",
        "\n",
        "###Instructor: Enrique Naredo\n",
        "###CS6501_Lab-0.16_sol\n",
        "\n",
        "#**Extra Pandas problems**"
      ]
    },
    {
      "cell_type": "markdown",
      "metadata": {
        "id": "gRbds0ey3HEP"
      },
      "source": [
        "## Problem 1 \n",
        "\n",
        "Import pandas as pd and print the version number."
      ]
    },
    {
      "cell_type": "code",
      "metadata": {
        "id": "cRNNlsz33KHt",
        "colab": {
          "base_uri": "https://localhost:8080/"
        },
        "outputId": "a6fc7acb-b79f-4e20-9332-8c0461c3154f"
      },
      "source": [
        "import pandas as pd\n",
        "print(pd.__version__)"
      ],
      "execution_count": 1,
      "outputs": [
        {
          "output_type": "stream",
          "name": "stdout",
          "text": [
            "1.1.5\n"
          ]
        }
      ]
    },
    {
      "cell_type": "markdown",
      "metadata": {
        "id": "gIIIT_FBJbuE"
      },
      "source": [
        "## Problem 2\n",
        "\n",
        "Create a pandas series from each of the items below: a list, numpy and a dictionary\n",
        "\n",
        "Input:\n",
        "\n",
        "`mylist = list('abcedfghijklmnopqrstuvwxyz')`\n",
        "\n",
        "`myarr = np.arange(26)`\n",
        "\n",
        "`mydict = dict(zip(mylist, myarr))`"
      ]
    },
    {
      "cell_type": "code",
      "metadata": {
        "id": "G7P4t1nTEhG2",
        "outputId": "fb103c16-b94c-4322-c4a8-fbe23197fb2b",
        "colab": {
          "base_uri": "https://localhost:8080/"
        }
      },
      "source": [
        "import numpy as np\n",
        "mylist = list('abcedfghijklmnopqrstuvwxyz')\n",
        "\n",
        "myarr = np.arange(26)\n",
        "\n",
        "mydict = dict(zip(mylist, myarr))\n",
        "\n",
        "print(pd.Series(mylist))\n",
        "print(pd.Series(myarr))\n",
        "print(pd.Series(mydict))"
      ],
      "execution_count": 5,
      "outputs": [
        {
          "output_type": "stream",
          "name": "stdout",
          "text": [
            "0     a\n",
            "1     b\n",
            "2     c\n",
            "3     e\n",
            "4     d\n",
            "5     f\n",
            "6     g\n",
            "7     h\n",
            "8     i\n",
            "9     j\n",
            "10    k\n",
            "11    l\n",
            "12    m\n",
            "13    n\n",
            "14    o\n",
            "15    p\n",
            "16    q\n",
            "17    r\n",
            "18    s\n",
            "19    t\n",
            "20    u\n",
            "21    v\n",
            "22    w\n",
            "23    x\n",
            "24    y\n",
            "25    z\n",
            "dtype: object\n",
            "0      0\n",
            "1      1\n",
            "2      2\n",
            "3      3\n",
            "4      4\n",
            "5      5\n",
            "6      6\n",
            "7      7\n",
            "8      8\n",
            "9      9\n",
            "10    10\n",
            "11    11\n",
            "12    12\n",
            "13    13\n",
            "14    14\n",
            "15    15\n",
            "16    16\n",
            "17    17\n",
            "18    18\n",
            "19    19\n",
            "20    20\n",
            "21    21\n",
            "22    22\n",
            "23    23\n",
            "24    24\n",
            "25    25\n",
            "dtype: int64\n",
            "a     0\n",
            "b     1\n",
            "c     2\n",
            "e     3\n",
            "d     4\n",
            "f     5\n",
            "g     6\n",
            "h     7\n",
            "i     8\n",
            "j     9\n",
            "k    10\n",
            "l    11\n",
            "m    12\n",
            "n    13\n",
            "o    14\n",
            "p    15\n",
            "q    16\n",
            "r    17\n",
            "s    18\n",
            "t    19\n",
            "u    20\n",
            "v    21\n",
            "w    22\n",
            "x    23\n",
            "y    24\n",
            "z    25\n",
            "dtype: int64\n"
          ]
        }
      ]
    },
    {
      "cell_type": "markdown",
      "metadata": {
        "id": "pPdzBnVz3QzM"
      },
      "source": [
        "## Problem 3\n",
        "\n",
        "Convert the series `ser` into a dataframe with its index as another column on the dataframe.\n",
        "\n",
        "Input:\n",
        "\n",
        "`mylist = list('abcedfghijklmnopqrstuvwxyz')`\n",
        "\n",
        "`myarr = np.arange(26)`\n",
        "\n",
        "`mydict = dict(zip(mylist, myarr))`\n",
        "\n",
        "`ser = pd.Series(mydict)`"
      ]
    },
    {
      "cell_type": "code",
      "metadata": {
        "id": "xhh8E9qHFKe3",
        "outputId": "2dc8a515-fac0-4394-dc32-039cff26231c",
        "colab": {
          "base_uri": "https://localhost:8080/"
        }
      },
      "source": [
        "mylist = list('abcedfghijklmnopqrstuvwxyz')\n",
        "myarr = np.arange(26)\n",
        "mydict = dict(zip(mylist, myarr))\n",
        "ser = pd.Series(mydict)\n",
        "print(pd.DataFrame({'v':ser.values,'i':ser.index}))\n"
      ],
      "execution_count": 18,
      "outputs": [
        {
          "output_type": "stream",
          "name": "stdout",
          "text": [
            "     v  i\n",
            "0    0  a\n",
            "1    1  b\n",
            "2    2  c\n",
            "3    3  e\n",
            "4    4  d\n",
            "5    5  f\n",
            "6    6  g\n",
            "7    7  h\n",
            "8    8  i\n",
            "9    9  j\n",
            "10  10  k\n",
            "11  11  l\n",
            "12  12  m\n",
            "13  13  n\n",
            "14  14  o\n",
            "15  15  p\n",
            "16  16  q\n",
            "17  17  r\n",
            "18  18  s\n",
            "19  19  t\n",
            "20  20  u\n",
            "21  21  v\n",
            "22  22  w\n",
            "23  23  x\n",
            "24  24  y\n",
            "25  25  z\n"
          ]
        }
      ]
    },
    {
      "cell_type": "markdown",
      "metadata": {
        "id": "YQtmklEc3Uz8"
      },
      "source": [
        "## Problem 4\n",
        "\n",
        "Combine `ser1` and `ser2` to form a dataframe.\n",
        "\n",
        "Input:\n",
        "\n",
        "`ser1 = pd.Series(list('abcedfghijklmnopqrstuvwxyz'))`\n",
        "\n",
        "`ser2 = pd.Series(np.arange(26))`"
      ]
    },
    {
      "cell_type": "code",
      "metadata": {
        "id": "RkNZw_ZhGQrF",
        "outputId": "e883c8d5-d3bc-4579-c225-bd8a813ac925",
        "colab": {
          "base_uri": "https://localhost:8080/"
        }
      },
      "source": [
        "ser1 = pd.Series(list('abcedfghijklmnopqrstuvwxyz'))\n",
        "ser2 = pd.Series(np.arange(26))\n",
        "print(pd.DataFrame({1:ser1,2:ser2}))"
      ],
      "execution_count": 15,
      "outputs": [
        {
          "output_type": "stream",
          "name": "stdout",
          "text": [
            "    1   2\n",
            "0   a   0\n",
            "1   b   1\n",
            "2   c   2\n",
            "3   e   3\n",
            "4   d   4\n",
            "5   f   5\n",
            "6   g   6\n",
            "7   h   7\n",
            "8   i   8\n",
            "9   j   9\n",
            "10  k  10\n",
            "11  l  11\n",
            "12  m  12\n",
            "13  n  13\n",
            "14  o  14\n",
            "15  p  15\n",
            "16  q  16\n",
            "17  r  17\n",
            "18  s  18\n",
            "19  t  19\n",
            "20  u  20\n",
            "21  v  21\n",
            "22  w  22\n",
            "23  x  23\n",
            "24  y  24\n",
            "25  z  25\n"
          ]
        }
      ]
    },
    {
      "cell_type": "markdown",
      "metadata": {
        "id": "m5Qo4J-Z3VuE"
      },
      "source": [
        "## Problem 5\n",
        "\n",
        "Give a name to the series ser calling it ‘alphabets’.\n",
        "\n",
        "`ser = pd.Series(list('abcedfghijklmnopqrstuvwxyz'))`"
      ]
    },
    {
      "cell_type": "code",
      "metadata": {
        "id": "k91bwBtlH3tT",
        "outputId": "80509779-3164-4918-d79a-ae26b30ae8be",
        "colab": {
          "base_uri": "https://localhost:8080/"
        }
      },
      "source": [
        "ser = pd.Series(list('abcedfghijklmnopqrstuvwxyz'))\n",
        "ser.name = 'alphabets'\n",
        "print(ser)"
      ],
      "execution_count": 19,
      "outputs": [
        {
          "output_type": "stream",
          "name": "stdout",
          "text": [
            "0     a\n",
            "1     b\n",
            "2     c\n",
            "3     e\n",
            "4     d\n",
            "5     f\n",
            "6     g\n",
            "7     h\n",
            "8     i\n",
            "9     j\n",
            "10    k\n",
            "11    l\n",
            "12    m\n",
            "13    n\n",
            "14    o\n",
            "15    p\n",
            "16    q\n",
            "17    r\n",
            "18    s\n",
            "19    t\n",
            "20    u\n",
            "21    v\n",
            "22    w\n",
            "23    x\n",
            "24    y\n",
            "25    z\n",
            "Name: alphabets, dtype: object\n"
          ]
        }
      ]
    },
    {
      "cell_type": "markdown",
      "metadata": {
        "id": "5S17OHj63Wc1"
      },
      "source": [
        "## Problem 6\n",
        "\n",
        "From `ser1` remove items present in `ser2`.\n",
        "\n",
        "Input:\n",
        "\n",
        "`ser1 = pd.Series([1, 2, 3, 4, 5])`\n",
        "\n",
        "`ser2 = pd.Series([4, 5, 6, 7, 8])`"
      ]
    },
    {
      "cell_type": "code",
      "metadata": {
        "id": "0nkxqKaHIFOa",
        "outputId": "59e4351a-b2d3-43be-c69f-8a1f7a47718b",
        "colab": {
          "base_uri": "https://localhost:8080/"
        }
      },
      "source": [
        "ser1 = pd.Series([1, 2, 3, 4, 5])\n",
        "ser2 = pd.Series([4, 5, 6, 7, 8])\n",
        "ser1[~ser1.isin(ser2)]"
      ],
      "execution_count": 26,
      "outputs": [
        {
          "output_type": "execute_result",
          "data": {
            "text/plain": [
              "0    1\n",
              "1    2\n",
              "2    3\n",
              "dtype: int64"
            ]
          },
          "metadata": {},
          "execution_count": 26
        }
      ]
    },
    {
      "cell_type": "markdown",
      "metadata": {
        "id": "_ymdLB0s3Xbe"
      },
      "source": [
        "## Problem 7\n",
        "\n",
        "Get all items of `ser1` and `ser2` not common to both.\n",
        "\n",
        "Input:\n",
        "\n",
        "`ser1 = pd.Series([1, 2, 3, 4, 5])`\n",
        "\n",
        "`ser2 = pd.Series([4, 5, 6, 7, 8])`"
      ]
    },
    {
      "cell_type": "code",
      "metadata": {
        "id": "Lny5qI72JUmo",
        "outputId": "04108927-3b65-44d4-8279-cade8742884b",
        "colab": {
          "base_uri": "https://localhost:8080/"
        }
      },
      "source": [
        "pd.concat([ser1[~ser1.isin(ser2)],ser2[~ser2.isin(ser1)]])"
      ],
      "execution_count": 32,
      "outputs": [
        {
          "output_type": "execute_result",
          "data": {
            "text/plain": [
              "0    1\n",
              "1    2\n",
              "2    3\n",
              "2    6\n",
              "3    7\n",
              "4    8\n",
              "dtype: int64"
            ]
          },
          "metadata": {},
          "execution_count": 32
        }
      ]
    },
    {
      "cell_type": "markdown",
      "metadata": {
        "id": "aVZfb9513Ybf"
      },
      "source": [
        "## Problem 8\n",
        "\n",
        "Calculte the frequency counts of each unique value `ser`.\n",
        "\n",
        "Input:\n",
        "\n",
        "`ser = pd.Series(np.take(list('abcdefgh'), np.random.randint(8, size=30)))`\n"
      ]
    },
    {
      "cell_type": "code",
      "metadata": {
        "id": "KiSl6ab6KzUS",
        "outputId": "99ceb2c4-d288-48a2-df50-68537a786740",
        "colab": {
          "base_uri": "https://localhost:8080/"
        }
      },
      "source": [
        "ser = pd.Series(np.take(list('abcdefgh'), np.random.randint(8, size=30)))\n",
        "ser.value_counts()"
      ],
      "execution_count": 33,
      "outputs": [
        {
          "output_type": "execute_result",
          "data": {
            "text/plain": [
              "b    9\n",
              "f    4\n",
              "e    4\n",
              "d    4\n",
              "h    3\n",
              "g    3\n",
              "a    2\n",
              "c    1\n",
              "dtype: int64"
            ]
          },
          "metadata": {},
          "execution_count": 33
        }
      ]
    },
    {
      "cell_type": "markdown",
      "metadata": {
        "id": "xzpB7TGm3ZUM"
      },
      "source": [
        "## Problem 9\n",
        "\n",
        "From `ser`, keep the top 2 most frequent items as it is and replace everything else as ‘Other’.\n",
        "\n",
        "Input:\n",
        "\n",
        "`ser = pd.Series(np.random.randint(1, 5, [12]))`\n"
      ]
    },
    {
      "cell_type": "code",
      "metadata": {
        "id": "b0LysWvxLb7l",
        "outputId": "b65b84e9-8800-49aa-823f-9a1051d464f7",
        "colab": {
          "base_uri": "https://localhost:8080/"
        }
      },
      "source": [
        "ser = pd.Series(np.take(list('abcdefgh'), np.random.randint(8, size=30)))\n",
        "#print(ser)\n",
        "d=ser.value_counts()\n",
        "\n",
        "ser[~ser.isin(d.index[:2])] = 'Other'\n",
        "print(ser)\n"
      ],
      "execution_count": 62,
      "outputs": [
        {
          "output_type": "stream",
          "name": "stdout",
          "text": [
            "0         f\n",
            "1     Other\n",
            "2     Other\n",
            "3         g\n",
            "4     Other\n",
            "5     Other\n",
            "6     Other\n",
            "7     Other\n",
            "8         g\n",
            "9     Other\n",
            "10        f\n",
            "11        f\n",
            "12    Other\n",
            "13        f\n",
            "14    Other\n",
            "15    Other\n",
            "16    Other\n",
            "17    Other\n",
            "18        g\n",
            "19    Other\n",
            "20        f\n",
            "21        f\n",
            "22        g\n",
            "23        g\n",
            "24    Other\n",
            "25    Other\n",
            "26    Other\n",
            "27        f\n",
            "28    Other\n",
            "29    Other\n",
            "dtype: object\n"
          ]
        }
      ]
    },
    {
      "cell_type": "markdown",
      "metadata": {
        "id": "LXdQeKks3aMk"
      },
      "source": [
        "## Problem 10\n",
        "\n",
        "Reshape the series `ser` into a dataframe with 7 rows and 5 columns\n",
        "\n",
        "Input:\n",
        "\n",
        "`ser = pd.Series(np.random.randint(1, 10, 35))`"
      ]
    },
    {
      "cell_type": "code",
      "metadata": {
        "id": "TZqHI1IyOoJv",
        "outputId": "f544e7a0-f229-4217-c7ac-901ed7314b08",
        "colab": {
          "base_uri": "https://localhost:8080/"
        }
      },
      "source": [
        "ser = pd.Series(np.random.randint(1, 10, 35))\n",
        "df = pd.DataFrame(ser.values.reshape(7,5))\n",
        "print(df)"
      ],
      "execution_count": 63,
      "outputs": [
        {
          "output_type": "stream",
          "name": "stdout",
          "text": [
            "   0  1  2  3  4\n",
            "0  4  1  9  1  7\n",
            "1  4  5  8  6  9\n",
            "2  6  2  3  6  3\n",
            "3  8  4  8  5  9\n",
            "4  4  9  8  7  1\n",
            "5  7  5  4  1  3\n",
            "6  4  6  5  4  8\n"
          ]
        }
      ]
    }
  ]
}